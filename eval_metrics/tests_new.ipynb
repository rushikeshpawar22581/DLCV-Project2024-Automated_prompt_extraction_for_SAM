{
 "cells": [
  {
   "cell_type": "code",
   "execution_count": 24,
   "metadata": {},
   "outputs": [],
   "source": [
    "import os\n",
    "import cv2\n",
    "import numpy as np\n",
    "import pandas as pd\n",
    "import matplotlib.pyplot as plt"
   ]
  },
  {
   "cell_type": "markdown",
   "metadata": {},
   "source": [
    "### IOU"
   ]
  },
  {
   "cell_type": "code",
   "execution_count": 25,
   "metadata": {},
   "outputs": [],
   "source": [
    "# def calculate_iou(true_mask, predicted_mask):\n",
    "#     #convert true mask to gray scale\n",
    "#     true_mask_gray=cv2.cvtColor(true_mask,cv2.COLOR_BGR2GRAY)\n",
    "#     #convert predicted mask to gray scale\n",
    "#     predicted_mask_gray=cv2.cvtColor(predicted_mask,cv2.COLOR_BGR2GRAY)\n",
    "#     #find contours for true mask\n",
    "#     true_contours,_=cv2.findContours(true_mask_gray,cv2.RETR_EXTERNAL,cv2.CHAIN_APPROX_SIMPLE)\n",
    "#     #find contours for predicted mask\n",
    "#     predicted_contours,_=cv2.findContours(predicted_mask_gray,cv2.RETR_EXTERNAL,cv2.CHAIN_APPROX_SIMPLE)\n",
    "#     #initialize iou\n",
    "#     iou=0\n",
    "#     #calculate iou only if both true and predicted contours are present\n",
    "#     if len(true_contours)>0 and len(predicted_contours)>0:\n",
    "#         #get intersection contour area\n",
    "#         intersection_area=cv2.contourArea(cv2.convexHull(cv2.bitwise_and(true_mask_gray,predicted_mask_gray)))\n",
    "\n",
    "#         #get union contour area\n",
    "#         union_area=cv2.contourArea(cv2.convexHull(cv2.bitwise_or(true_mask_gray,predicted_mask_gray)))\n",
    "\n",
    "#         #calculate iou\n",
    "#         iou=intersection_area/union_area\n",
    "\n",
    "#     else:\n",
    "#         iou=0\n",
    "\n",
    "#     return iou"
   ]
  },
  {
   "cell_type": "code",
   "execution_count": 26,
   "metadata": {},
   "outputs": [],
   "source": [
    "def calculate_iou(true_mask, predicted_mask):\n",
    "    # Convert true mask to gray scale\n",
    "    true_mask_gray = cv2.cvtColor(true_mask, cv2.COLOR_BGR2GRAY)\n",
    "    # Convert predicted mask to gray scale\n",
    "    predicted_mask_gray = cv2.cvtColor(predicted_mask, cv2.COLOR_BGR2GRAY)\n",
    "    \n",
    "    # Get intersection image\n",
    "    intersection = cv2.bitwise_and(true_mask_gray, predicted_mask_gray)\n",
    "    # Get union image\n",
    "    union = cv2.bitwise_or(true_mask_gray, predicted_mask_gray)\n",
    "    \n",
    "    # Find contours in the intersection and union images\n",
    "    contours_intersection, _ = cv2.findContours(intersection, cv2.RETR_EXTERNAL, cv2.CHAIN_APPROX_SIMPLE)\n",
    "    \n",
    "    contours_union, _ = cv2.findContours(union, cv2.RETR_EXTERNAL, cv2.CHAIN_APPROX_SIMPLE)\n",
    "    \n",
    "    # Initialize IoU\n",
    "    iou = 0\n",
    "    \n",
    "    # Calculate IoU only if both true and predicted contours are present\n",
    "    if len(contours_intersection) > 0 and len(contours_union) > 0:\n",
    "        # Get intersection contour area\n",
    "        intersection_area = cv2.contourArea(cv2.convexHull(np.concatenate(contours_intersection)))\n",
    "        # Get union contour area\n",
    "        union_area = cv2.contourArea(cv2.convexHull(np.concatenate(contours_union)))\n",
    "        \n",
    "        # Calculate IoU\n",
    "        iou = intersection_area / union_area\n",
    "    else:\n",
    "        iou = 0\n",
    "\n",
    "    return iou"
   ]
  },
  {
   "cell_type": "markdown",
   "metadata": {},
   "source": [
    "### Dice"
   ]
  },
  {
   "cell_type": "code",
   "execution_count": 27,
   "metadata": {},
   "outputs": [],
   "source": [
    "# #calculate dice score\n",
    "# def calculate_dice_score(true_mask, predicted_mask):\n",
    "#     #convert true mask to gray scale\n",
    "#     true_mask_gray=cv2.cvtColor(true_mask,cv2.COLOR_BGR2GRAY)\n",
    "#     #convert predicted mask to gray scale\n",
    "#     predicted_mask_gray=cv2.cvtColor(predicted_mask,cv2.COLOR_BGR2GRAY)\n",
    "#     #find contours for true mask\n",
    "#     true_contours,_=cv2.findContours(true_mask_gray,cv2.RETR_EXTERNAL,cv2.CHAIN_APPROX_SIMPLE)\n",
    "#     #find contours for predicted mask\n",
    "#     predicted_contours,_=cv2.findContours(predicted_mask_gray,cv2.RETR_EXTERNAL,cv2.CHAIN_APPROX_SIMPLE)\n",
    "#     dice_score=0\n",
    "#     #calculate dice score only if both true and predicted contours are present\n",
    "#     if len(true_contours)>0 and len(predicted_contours)>0:\n",
    "#         #calculate dice score\n",
    "#         #intersection area\n",
    "#         intersection_area=cv2.contourArea(cv2.convexHull(cv2.bitwise_and(true_mask_gray,predicted_mask_gray)))\n",
    "#         #area of true mask\n",
    "#         true_area=cv2.contourArea(cv2.convexHull(true_mask_gray))\n",
    "#         #area of predicted mask\n",
    "#         predicted_area=cv2.contourArea(cv2.convexHull(predicted_mask_gray))\n",
    "#         #dice score\n",
    "#         dice_score=2*intersection_area/(true_area+predicted_area)\n",
    "\n",
    "#     else:\n",
    "#         dice_score=0\n",
    "\n",
    "#     return dice_score"
   ]
  },
  {
   "cell_type": "code",
   "execution_count": 28,
   "metadata": {},
   "outputs": [],
   "source": [
    "def calculate_dice_score(true_mask, predicted_mask):\n",
    "    # Convert true mask to gray scale\n",
    "    true_mask_gray = cv2.cvtColor(true_mask, cv2.COLOR_BGR2GRAY)\n",
    "    # Convert predicted mask to gray scale\n",
    "    predicted_mask_gray = cv2.cvtColor(predicted_mask, cv2.COLOR_BGR2GRAY)\n",
    "    \n",
    "    # Get intersection image\n",
    "    intersection = cv2.bitwise_and(true_mask_gray, predicted_mask_gray)\n",
    "    \n",
    "    # Find contours in the intersection and individual masks\n",
    "    contours_intersection, _ = cv2.findContours(intersection, cv2.RETR_EXTERNAL, cv2.CHAIN_APPROX_SIMPLE)\n",
    "    if len(contours_intersection) == 0:\n",
    "        return 0\n",
    "    contours_true, _ = cv2.findContours(true_mask_gray, cv2.RETR_EXTERNAL, cv2.CHAIN_APPROX_SIMPLE)\n",
    "    contours_pred, _ = cv2.findContours(predicted_mask_gray, cv2.RETR_EXTERNAL, cv2.CHAIN_APPROX_SIMPLE)\n",
    "    \n",
    "    dice_score = 0\n",
    "    \n",
    "    # Calculate Dice score only if both true and predicted contours are present\n",
    "    if len(contours_true) > 0 and len(contours_pred) > 0:\n",
    "        # Calculate intersection area\n",
    "        intersection_area = cv2.contourArea(cv2.convexHull(np.concatenate(contours_intersection)))\n",
    "        # Calculate area of true mask\n",
    "        true_area = cv2.contourArea(cv2.convexHull(np.concatenate(contours_true)))\n",
    "        # Calculate area of predicted mask\n",
    "        predicted_area = cv2.contourArea(cv2.convexHull(np.concatenate(contours_pred)))\n",
    "        \n",
    "        # Calculate Dice score\n",
    "        dice_score = 2 * intersection_area / (true_area + predicted_area)\n",
    "    else:\n",
    "        dice_score = 0\n",
    "\n",
    "    return dice_score"
   ]
  },
  {
   "cell_type": "markdown",
   "metadata": {},
   "source": [
    "### pixel wise accuracy"
   ]
  },
  {
   "cell_type": "code",
   "execution_count": 29,
   "metadata": {},
   "outputs": [],
   "source": [
    "#pixel wise accuracy\n",
    "\n",
    "def calculate_pixel_wise_accuracy(true_mask, predicted_mask):\n",
    "    \n",
    "    #convert true mask to gray scale\n",
    "    true_mask_gray=cv2.cvtColor(true_mask,cv2.COLOR_BGR2GRAY)\n",
    "    #convert predicted mask to gray scale\n",
    "    predicted_mask_gray=cv2.cvtColor(predicted_mask,cv2.COLOR_BGR2GRAY)\n",
    "    #calculate pixel wise accuracy\n",
    "    #number of pixels in true mask\n",
    "    true_pixels=np.sum(true_mask_gray==255)\n",
    "    #number of pixels in predicted mask\n",
    "    predicted_pixels=np.sum(predicted_mask_gray==255)\n",
    "    #number of pixels in true mask and predicted mask\n",
    "    true_predicted_pixels=np.sum((true_mask_gray==255) & (predicted_mask_gray==255))\n",
    "    #pixel wise accuracy\n",
    "    pixel_wise_accuracy=true_predicted_pixels/(true_pixels+predicted_pixels-true_predicted_pixels)\n",
    "\n",
    "    return pixel_wise_accuracy"
   ]
  },
  {
   "cell_type": "markdown",
   "metadata": {},
   "source": [
    "### Bbox"
   ]
  },
  {
   "cell_type": "code",
   "execution_count": 30,
   "metadata": {},
   "outputs": [
    {
     "name": "stdout",
     "output_type": "stream",
     "text": [
      "                                 File       IOU  Dice Score  \\\n",
      "0      benign (1)_mask_prediction.png  0.838826    0.908780   \n",
      "1     benign (10)_mask_prediction.png  0.945461    0.971808   \n",
      "2    benign (100)_mask_prediction.png  0.826918    0.905807   \n",
      "3    benign (101)_mask_prediction.png  0.874150    0.932728   \n",
      "4    benign (102)_mask_prediction.png  0.929005    0.963614   \n",
      "..                                ...       ...         ...   \n",
      "431   benign (94)_mask_prediction.png  0.799413    0.886248   \n",
      "432   benign (95)_mask_prediction.png  0.849863    0.918625   \n",
      "433   benign (96)_mask_prediction.png  0.842329    0.914207   \n",
      "434   benign (97)_mask_prediction.png  0.858714    0.924011   \n",
      "435   benign (98)_mask_prediction.png  0.794897    0.884030   \n",
      "\n",
      "     Pixel Wise Accuracy  \n",
      "0               0.839858  \n",
      "1               0.939535  \n",
      "2               0.827932  \n",
      "3               0.863964  \n",
      "4               0.921084  \n",
      "..                   ...  \n",
      "431             0.805434  \n",
      "432             0.801372  \n",
      "433             0.816893  \n",
      "434             0.792402  \n",
      "435             0.621366  \n",
      "\n",
      "[436 rows x 4 columns]\n"
     ]
    }
   ],
   "source": [
    "#\n",
    "benign_predictions_dir=os.path.join('..', 'BreastSAM impl', 'SAM_predictions_BBox', 'benign')\n",
    "benign_gt_dir=os.path.join('..','Dataset_BUSI_with_GT','benign')\n",
    "\n",
    "#file names in benign_gt_dir =benign (1)_mask.png\n",
    "#file names in benign_predictions_dir =benign (1)_mask_prediction.png\n",
    "\n",
    "\n",
    "list_of_benign_predictions_dir=os.listdir(benign_predictions_dir)\n",
    "\n",
    "df=pd.DataFrame(columns=['File','IOU','Dice Score','Pixel Wise Accuracy'])\n",
    "\n",
    "for files in list_of_benign_predictions_dir:\n",
    "    \n",
    "    #read true mask\n",
    "    true_mask=cv2.imread(os.path.join(benign_gt_dir,files.replace('_mask_prediction.png','_mask.png')))\n",
    "    #read predicted mask\n",
    "    predicted_mask=cv2.imread(os.path.join(benign_predictions_dir,files))\n",
    "    \n",
    "    #calculate iou\n",
    "    iou=calculate_iou(true_mask,predicted_mask)\n",
    "    #calculate dice score\n",
    "    dice_score=calculate_dice_score(true_mask,predicted_mask)\n",
    "    #calculate pixel wise accuracy\n",
    "    pixel_wise_accuracy=calculate_pixel_wise_accuracy(true_mask,predicted_mask)\n",
    "\n",
    "    #dont use append method to add rows to dataframe\n",
    "\n",
    "    df.loc[len(df)]=[files,iou,dice_score,pixel_wise_accuracy]\n",
    "    \n",
    "\n",
    "\n",
    "print(df)\n",
    "\n",
    "#save the dataframe to a csv file\n",
    "df.to_csv(os.path.join('..','BreastSAM impl','benign_metrics.csv'),index=False)"
   ]
  },
  {
   "cell_type": "code",
   "execution_count": 31,
   "metadata": {},
   "outputs": [],
   "source": [
    "def calculate_metrics(benign_gt_dir, benign_predictions_dir,csv_file_name):\n",
    "    list_of_benign_predictions_dir = os.listdir(benign_predictions_dir)\n",
    "\n",
    "    df = pd.DataFrame(columns=['File', 'IOU', 'Dice Score', 'Pixel Wise Accuracy'])\n",
    "\n",
    "    for files in list_of_benign_predictions_dir:\n",
    "        # read true mask\n",
    "        #print(files)\n",
    "        true_mask = cv2.imread(os.path.join(benign_gt_dir, files.replace('_mask_prediction.png', '_mask.png')))\n",
    "        # read predicted mask\n",
    "        predicted_mask = cv2.imread(os.path.join(benign_predictions_dir, files))\n",
    "\n",
    "        # calculate iou\n",
    "        iou = calculate_iou(true_mask, predicted_mask)\n",
    "        # calculate dice score\n",
    "        dice_score = calculate_dice_score(true_mask, predicted_mask)\n",
    "        # calculate pixel wise accuracy\n",
    "        pixel_wise_accuracy = calculate_pixel_wise_accuracy(true_mask, predicted_mask)\n",
    "\n",
    "        df.loc[len(df)] = [files, iou, dice_score, pixel_wise_accuracy]\n",
    "\n",
    "    print(df.head())\n",
    "\n",
    "    # save the dataframe to a csv file\n",
    "    df.to_csv(csv_file_name, index=False)\n",
    "    \n",
    "    \n",
    "    average_dice_score=np.mean(df['Dice Score'])\n",
    "    average_iou=np.mean(df['IOU'])\n",
    "    average_pixel_wise_accuracy=np.mean(df['Pixel Wise Accuracy'])\n",
    "    \n",
    "    return average_dice_score,average_iou,average_pixel_wise_accuracy"
   ]
  },
  {
   "cell_type": "markdown",
   "metadata": {},
   "source": [
    "## only box prompt"
   ]
  },
  {
   "cell_type": "code",
   "execution_count": 32,
   "metadata": {},
   "outputs": [
    {
     "name": "stdout",
     "output_type": "stream",
     "text": [
      "                               File       IOU  Dice Score  Pixel Wise Accuracy\n",
      "0    benign (1)_mask_prediction.png  0.838826    0.908780             0.839858\n",
      "1   benign (10)_mask_prediction.png  0.945461    0.971808             0.939535\n",
      "2  benign (100)_mask_prediction.png  0.826918    0.905807             0.827932\n",
      "3  benign (101)_mask_prediction.png  0.874150    0.932728             0.863964\n",
      "4  benign (102)_mask_prediction.png  0.929005    0.963614             0.921084\n",
      "Average Dice Score: 0.8966026793007775\n",
      "Average IOU: 0.8219298047116779\n",
      "Average Pixel Wise Accuracy: 0.7751496027403703\n"
     ]
    }
   ],
   "source": [
    "benign_predictions_dir=os.path.join('..', 'BreastSAM impl', 'SAM_predictions_BBox', 'benign')\n",
    "benign_gt_dir=os.path.join('..','Dataset_BUSI_with_GT','benign')\n",
    "\n",
    "average_dice_score,average_iou,average_pixel_wise_accuracy=calculate_metrics(benign_gt_dir,benign_predictions_dir,os.path.join('..','BreastSAM impl','benign_box_metrics.csv'))\n",
    "\n",
    "print('Average Dice Score:',average_dice_score)\n",
    "print('Average IOU:',average_iou)\n",
    "print('Average Pixel Wise Accuracy:',average_pixel_wise_accuracy)"
   ]
  },
  {
   "cell_type": "code",
   "execution_count": 33,
   "metadata": {},
   "outputs": [
    {
     "name": "stdout",
     "output_type": "stream",
     "text": [
      "                                  File       IOU  Dice Score  \\\n",
      "0    malignant (1)_mask_prediction.png  0.848478    0.910377   \n",
      "1   malignant (10)_mask_prediction.png  0.728952    0.841666   \n",
      "2  malignant (100)_mask_prediction.png  0.726468    0.837183   \n",
      "3  malignant (101)_mask_prediction.png  0.540087    0.700621   \n",
      "4  malignant (102)_mask_prediction.png  0.572006    0.727526   \n",
      "\n",
      "   Pixel Wise Accuracy  \n",
      "0             0.768956  \n",
      "1             0.690886  \n",
      "2             0.693924  \n",
      "3             0.633904  \n",
      "4             0.579419  \n",
      "Average Dice Score: 0.8480665238266606\n",
      "Average IOU: 0.7496548193711752\n",
      "Average Pixel Wise Accuracy: 0.7083671832802122\n"
     ]
    }
   ],
   "source": [
    "malignant_predictions_dir=os.path.join('..', 'BreastSAM impl', 'SAM_predictions_BBox', 'malignant')\n",
    "malignant_gt_dir=os.path.join('..','Dataset_BUSI_with_GT','malignant')\n",
    "\n",
    "average_dice_score,average_iou,average_pixel_wise_accuracy=calculate_metrics(malignant_gt_dir,malignant_predictions_dir,os.path.join('..','BreastSAM impl','malignant_box_metrics.csv'))\n",
    "\n",
    "print('Average Dice Score:',average_dice_score)\n",
    "print('Average IOU:',average_iou)\n",
    "print('Average Pixel Wise Accuracy:',average_pixel_wise_accuracy)"
   ]
  },
  {
   "cell_type": "markdown",
   "metadata": {},
   "source": [
    "## with box and point prompt"
   ]
  },
  {
   "cell_type": "code",
   "execution_count": 34,
   "metadata": {},
   "outputs": [
    {
     "name": "stdout",
     "output_type": "stream",
     "text": [
      "                               File       IOU  Dice Score  Pixel Wise Accuracy\n",
      "0    benign (1)_mask_prediction.png  0.836117    0.905845             0.838825\n",
      "1   benign (10)_mask_prediction.png  0.946889    0.972232             0.941567\n",
      "2  benign (100)_mask_prediction.png  0.825503    0.904992             0.826915\n",
      "3  benign (101)_mask_prediction.png  0.876017    0.933730             0.866155\n",
      "4  benign (102)_mask_prediction.png  0.931304    0.964796             0.925291\n",
      "Average Dice Score: 0.897176626447334\n",
      "Average IOU: 0.8223667122607278\n",
      "Average Pixel Wise Accuracy: 0.79010434918551\n"
     ]
    }
   ],
   "source": [
    "benign_gt_dir=os.path.join('..','Dataset_BUSI_with_GT','benign')\n",
    "benign_point_box_dir=os.path.join('..','BreastSAM impl','SAM_predictions_BBoxPoint','benign')\n",
    "\n",
    "average_dice_score,average_iou,average_pixel_wise_accuracy=calculate_metrics(benign_gt_dir,benign_point_box_dir,'benign_BBoxPoint_metrics.csv')\n",
    "\n",
    "print('Average Dice Score:',average_dice_score)\n",
    "print('Average IOU:',average_iou)\n",
    "print('Average Pixel Wise Accuracy:',average_pixel_wise_accuracy)"
   ]
  },
  {
   "cell_type": "code",
   "execution_count": 35,
   "metadata": {},
   "outputs": [
    {
     "name": "stdout",
     "output_type": "stream",
     "text": [
      "                                  File       IOU  Dice Score  \\\n",
      "0    malignant (1)_mask_prediction.png  0.836582    0.896123   \n",
      "1   malignant (10)_mask_prediction.png  0.674077    0.792074   \n",
      "2  malignant (100)_mask_prediction.png  0.685972    0.813638   \n",
      "3  malignant (101)_mask_prediction.png  0.538556    0.699385   \n",
      "4  malignant (102)_mask_prediction.png  0.596210    0.746671   \n",
      "\n",
      "   Pixel Wise Accuracy  \n",
      "0             0.754960  \n",
      "1             0.664978  \n",
      "2             0.616424  \n",
      "3             0.630228  \n",
      "4             0.576915  \n",
      "Average Dice Score: 0.8443522558945744\n",
      "Average IOU: 0.7429058788803667\n",
      "Average Pixel Wise Accuracy: 0.7155563276327351\n"
     ]
    }
   ],
   "source": [
    "malignant_gt_dir=os.path.join('..','Dataset_BUSI_with_GT','malignant')\n",
    "malignant_point_box_dir=os.path.join('..','BreastSAM impl','SAM_predictions_BBoxPoint','malignant')\n",
    "\n",
    "average_dice_score,average_iou,average_pixel_wise_accuracy=calculate_metrics(malignant_gt_dir,malignant_point_box_dir,'malignant_BBoxPoint_metrics.csv')\n",
    "\n",
    "print('Average Dice Score:',average_dice_score)\n",
    "print('Average IOU:',average_iou)\n",
    "print('Average Pixel Wise Accuracy:',average_pixel_wise_accuracy)\n"
   ]
  },
  {
   "cell_type": "markdown",
   "metadata": {},
   "source": [
    "### Point "
   ]
  },
  {
   "cell_type": "code",
   "execution_count": 36,
   "metadata": {},
   "outputs": [
    {
     "name": "stdout",
     "output_type": "stream",
     "text": [
      "                               File       IOU  Dice Score  Pixel Wise Accuracy\n",
      "0    benign (1)_mask_prediction.png  0.840455    0.911286             0.846985\n",
      "1   benign (10)_mask_prediction.png  0.947690    0.972580             0.943227\n",
      "2  benign (100)_mask_prediction.png  0.820798    0.901956             0.822899\n",
      "3  benign (101)_mask_prediction.png  0.883074    0.937726             0.872422\n",
      "4  benign (102)_mask_prediction.png  0.630506    0.767371             0.920207\n",
      "Average Dice Score: 0.6939704876595888\n",
      "Average IOU: 0.6100689249457486\n",
      "Average Pixel Wise Accuracy: 0.5896810091898083\n"
     ]
    }
   ],
   "source": [
    "benign_gt_dir=os.path.join('..','Dataset_BUSI_with_GT','benign')\n",
    "benign_point_box_dir=os.path.join('..','BreastSAM impl','SAM_predictions_Point','benign')\n",
    "\n",
    "average_dice_score,average_iou,average_pixel_wise_accuracy=calculate_metrics(benign_gt_dir,benign_point_box_dir,'benign_Point_metrics.csv')\n",
    "\n",
    "print('Average Dice Score:',average_dice_score)\n",
    "print('Average IOU:',average_iou)\n",
    "print('Average Pixel Wise Accuracy:',average_pixel_wise_accuracy)"
   ]
  },
  {
   "cell_type": "code",
   "execution_count": 37,
   "metadata": {},
   "outputs": [
    {
     "name": "stdout",
     "output_type": "stream",
     "text": [
      "                                  File       IOU  Dice Score  \\\n",
      "0    malignant (1)_mask_prediction.png  0.657899    0.793695   \n",
      "1   malignant (10)_mask_prediction.png  0.084546    0.155910   \n",
      "2  malignant (100)_mask_prediction.png  0.306216    0.468812   \n",
      "3  malignant (101)_mask_prediction.png  0.499169    0.665529   \n",
      "4  malignant (102)_mask_prediction.png  0.510866    0.676209   \n",
      "\n",
      "   Pixel Wise Accuracy  \n",
      "0             0.675349  \n",
      "1             0.088316  \n",
      "2             0.355373  \n",
      "3             0.604435  \n",
      "4             0.513201  \n",
      "Average Dice Score: 0.5763191115128532\n",
      "Average IOU: 0.44829930329605333\n",
      "Average Pixel Wise Accuracy: 0.46138997781788166\n"
     ]
    }
   ],
   "source": [
    "malignant_gt_dir=os.path.join('..','Dataset_BUSI_with_GT','malignant')\n",
    "malignant_point_box_dir=os.path.join('..','BreastSAM impl','SAM_predictions_Point','malignant')\n",
    "\n",
    "average_dice_score,average_iou,average_pixel_wise_accuracy=calculate_metrics(malignant_gt_dir,malignant_point_box_dir,'malignant_Point_metrics.csv')\n",
    "\n",
    "print('Average Dice Score:',average_dice_score)\n",
    "print('Average IOU:',average_iou)\n",
    "print('Average Pixel Wise Accuracy:',average_pixel_wise_accuracy)\n"
   ]
  }
 ],
 "metadata": {
  "kernelspec": {
   "display_name": "base",
   "language": "python",
   "name": "python3"
  },
  "language_info": {
   "codemirror_mode": {
    "name": "ipython",
    "version": 3
   },
   "file_extension": ".py",
   "mimetype": "text/x-python",
   "name": "python",
   "nbconvert_exporter": "python",
   "pygments_lexer": "ipython3",
   "version": "3.11.7"
  }
 },
 "nbformat": 4,
 "nbformat_minor": 2
}
