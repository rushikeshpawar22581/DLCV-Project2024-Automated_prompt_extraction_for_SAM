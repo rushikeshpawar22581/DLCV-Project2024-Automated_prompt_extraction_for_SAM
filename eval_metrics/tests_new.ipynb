{
 "cells": [
  {
   "cell_type": "code",
   "execution_count": 91,
   "metadata": {},
   "outputs": [],
   "source": [
    "import os\n",
    "import cv2\n",
    "import numpy as np\n",
    "import pandas as pd\n",
    "import matplotlib.pyplot as plt"
   ]
  },
  {
   "cell_type": "markdown",
   "metadata": {},
   "source": [
    "### IOU"
   ]
  },
  {
   "cell_type": "code",
   "execution_count": 92,
   "metadata": {},
   "outputs": [],
   "source": [
    "# def calculate_iou(true_mask, predicted_mask):\n",
    "#     #convert true mask to gray scale\n",
    "#     true_mask_gray=cv2.cvtColor(true_mask,cv2.COLOR_BGR2GRAY)\n",
    "#     #convert predicted mask to gray scale\n",
    "#     predicted_mask_gray=cv2.cvtColor(predicted_mask,cv2.COLOR_BGR2GRAY)\n",
    "#     #find contours for true mask\n",
    "#     true_contours,_=cv2.findContours(true_mask_gray,cv2.RETR_EXTERNAL,cv2.CHAIN_APPROX_SIMPLE)\n",
    "#     #find contours for predicted mask\n",
    "#     predicted_contours,_=cv2.findContours(predicted_mask_gray,cv2.RETR_EXTERNAL,cv2.CHAIN_APPROX_SIMPLE)\n",
    "#     #initialize iou\n",
    "#     iou=0\n",
    "#     #calculate iou only if both true and predicted contours are present\n",
    "#     if len(true_contours)>0 and len(predicted_contours)>0:\n",
    "#         #get intersection contour area\n",
    "#         intersection_area=cv2.contourArea(cv2.convexHull(cv2.bitwise_and(true_mask_gray,predicted_mask_gray)))\n",
    "\n",
    "#         #get union contour area\n",
    "#         union_area=cv2.contourArea(cv2.convexHull(cv2.bitwise_or(true_mask_gray,predicted_mask_gray)))\n",
    "\n",
    "#         #calculate iou\n",
    "#         iou=intersection_area/union_area\n",
    "\n",
    "#     else:\n",
    "#         iou=0\n",
    "\n",
    "#     return iou"
   ]
  },
  {
   "cell_type": "code",
   "execution_count": 93,
   "metadata": {},
   "outputs": [],
   "source": [
    "# def calculate_iou(true_mask, predicted_mask):\n",
    "#     # Convert true mask to gray scale\n",
    "#     true_mask_gray = cv2.cvtColor(true_mask, cv2.COLOR_BGR2GRAY)\n",
    "#     # Convert predicted mask to gray scale\n",
    "#     predicted_mask_gray = cv2.cvtColor(predicted_mask, cv2.COLOR_BGR2GRAY)\n",
    "    \n",
    "#     # Get intersection image\n",
    "#     intersection = cv2.bitwise_and(true_mask_gray, predicted_mask_gray)\n",
    "#     # Get union image\n",
    "#     union = cv2.bitwise_or(true_mask_gray, predicted_mask_gray)\n",
    "    \n",
    "#     # Find contours in the intersection and union images\n",
    "#     contours_intersection, _ = cv2.findContours(intersection, cv2.RETR_EXTERNAL, cv2.CHAIN_APPROX_SIMPLE)\n",
    "    \n",
    "#     contours_union, _ = cv2.findContours(union, cv2.RETR_EXTERNAL, cv2.CHAIN_APPROX_SIMPLE)\n",
    "    \n",
    "#     # Initialize IoU\n",
    "#     iou = 0\n",
    "    \n",
    "#     # Calculate IoU only if both true and predicted contours are present\n",
    "#     if len(contours_intersection) > 0 and len(contours_union) > 0:\n",
    "#         # Get intersection contour area\n",
    "#         intersection_area = cv2.contourArea(cv2.convexHull(np.concatenate(contours_intersection)))\n",
    "#         # Get union contour area\n",
    "#         union_area = cv2.contourArea(cv2.convexHull(np.concatenate(contours_union)))\n",
    "        \n",
    "#         # Calculate IoU\n",
    "#         iou = intersection_area / union_area\n",
    "#     else:\n",
    "#         iou = 0\n",
    "\n",
    "#     return iou"
   ]
  },
  {
   "cell_type": "code",
   "execution_count": 94,
   "metadata": {},
   "outputs": [],
   "source": [
    "def calculate_iou(true_mask, predicted_mask):\n",
    "    # Convert true mask to gray scale\n",
    "    true_mask_gray = cv2.cvtColor(true_mask, cv2.COLOR_BGR2GRAY)\n",
    "    # Convert predicted mask to gray scale\n",
    "    predicted_mask_gray = cv2.cvtColor(predicted_mask, cv2.COLOR_BGR2GRAY)\n",
    "    \n",
    "    intersection = np.logical_and(true_mask_gray, predicted_mask_gray)\n",
    "    union = np.logical_or(true_mask_gray, predicted_mask_gray)\n",
    "\n",
    "    iou = np.sum(intersection) / np.sum(union)\n",
    "    return iou"
   ]
  },
  {
   "cell_type": "markdown",
   "metadata": {},
   "source": [
    "### Dice"
   ]
  },
  {
   "cell_type": "code",
   "execution_count": 95,
   "metadata": {},
   "outputs": [],
   "source": [
    "# #calculate dice score\n",
    "# def calculate_dice_score(true_mask, predicted_mask):\n",
    "#     #convert true mask to gray scale\n",
    "#     true_mask_gray=cv2.cvtColor(true_mask,cv2.COLOR_BGR2GRAY)\n",
    "#     #convert predicted mask to gray scale\n",
    "#     predicted_mask_gray=cv2.cvtColor(predicted_mask,cv2.COLOR_BGR2GRAY)\n",
    "#     #find contours for true mask\n",
    "#     true_contours,_=cv2.findContours(true_mask_gray,cv2.RETR_EXTERNAL,cv2.CHAIN_APPROX_SIMPLE)\n",
    "#     #find contours for predicted mask\n",
    "#     predicted_contours,_=cv2.findContours(predicted_mask_gray,cv2.RETR_EXTERNAL,cv2.CHAIN_APPROX_SIMPLE)\n",
    "#     dice_score=0\n",
    "#     #calculate dice score only if both true and predicted contours are present\n",
    "#     if len(true_contours)>0 and len(predicted_contours)>0:\n",
    "#         #calculate dice score\n",
    "#         #intersection area\n",
    "#         intersection_area=cv2.contourArea(cv2.convexHull(cv2.bitwise_and(true_mask_gray,predicted_mask_gray)))\n",
    "#         #area of true mask\n",
    "#         true_area=cv2.contourArea(cv2.convexHull(true_mask_gray))\n",
    "#         #area of predicted mask\n",
    "#         predicted_area=cv2.contourArea(cv2.convexHull(predicted_mask_gray))\n",
    "#         #dice score\n",
    "#         dice_score=2*intersection_area/(true_area+predicted_area)\n",
    "\n",
    "#     else:\n",
    "#         dice_score=0\n",
    "\n",
    "#     return dice_score"
   ]
  },
  {
   "cell_type": "code",
   "execution_count": 96,
   "metadata": {},
   "outputs": [],
   "source": [
    "# def calculate_dice_score(true_mask, predicted_mask):\n",
    "#     # Convert true mask to gray scale\n",
    "#     true_mask_gray = cv2.cvtColor(true_mask, cv2.COLOR_BGR2GRAY)\n",
    "#     # Convert predicted mask to gray scale\n",
    "#     predicted_mask_gray = cv2.cvtColor(predicted_mask, cv2.COLOR_BGR2GRAY)\n",
    "    \n",
    "#     # Get intersection image\n",
    "#     intersection = cv2.bitwise_and(true_mask_gray, predicted_mask_gray)\n",
    "    \n",
    "#     # Find contours in the intersection and individual masks\n",
    "#     contours_intersection, _ = cv2.findContours(intersection, cv2.RETR_EXTERNAL, cv2.CHAIN_APPROX_SIMPLE)\n",
    "#     if len(contours_intersection) == 0:\n",
    "#         return 0\n",
    "#     contours_true, _ = cv2.findContours(true_mask_gray, cv2.RETR_EXTERNAL, cv2.CHAIN_APPROX_SIMPLE)\n",
    "#     contours_pred, _ = cv2.findContours(predicted_mask_gray, cv2.RETR_EXTERNAL, cv2.CHAIN_APPROX_SIMPLE)\n",
    "    \n",
    "#     dice_score = 0\n",
    "    \n",
    "#     # Calculate Dice score only if both true and predicted contours are present\n",
    "#     if len(contours_true) > 0 and len(contours_pred) > 0:\n",
    "#         # Calculate intersection area\n",
    "#         intersection_area = cv2.contourArea(cv2.convexHull(np.concatenate(contours_intersection)))\n",
    "#         # Calculate area of true mask\n",
    "#         true_area = cv2.contourArea(cv2.convexHull(np.concatenate(contours_true)))\n",
    "#         # Calculate area of predicted mask\n",
    "#         predicted_area = cv2.contourArea(cv2.convexHull(np.concatenate(contours_pred)))\n",
    "        \n",
    "#         # Calculate Dice score\n",
    "#         dice_score = 2 * intersection_area / (true_area + predicted_area)\n",
    "#     else:\n",
    "#         dice_score = 0\n",
    "\n",
    "#     return dice_score"
   ]
  },
  {
   "cell_type": "code",
   "execution_count": 97,
   "metadata": {},
   "outputs": [],
   "source": [
    "def calculate_dice_score(true_mask, predicted_mask):\n",
    "    # Ensure the masks are binary\n",
    "    true_mask_binary = true_mask > 0\n",
    "    predicted_mask_binary = predicted_mask > 0\n",
    "    \n",
    "    intersection = np.logical_and(true_mask_binary, predicted_mask_binary)\n",
    "\n",
    "    dice_score = 0\n",
    "\n",
    "    # Calculate Dice score only if both true and predicted masks are present\n",
    "    if np.sum(true_mask_binary) > 0 and np.sum(predicted_mask_binary) > 0:\n",
    "        # Calculate intersection area\n",
    "        intersection_area = np.sum(intersection)\n",
    "        # Calculate area of true mask\n",
    "        true_area = np.sum(true_mask_binary)\n",
    "        # Calculate area of predicted mask\n",
    "        predicted_area = np.sum(predicted_mask_binary)\n",
    "        \n",
    "        # Calculate Dice score\n",
    "        dice_score = 2 * intersection_area / (true_area + predicted_area)\n",
    "    else:\n",
    "        dice_score = 0\n",
    "\n",
    "    return dice_score"
   ]
  },
  {
   "cell_type": "markdown",
   "metadata": {},
   "source": [
    "### pixel wise accuracy"
   ]
  },
  {
   "cell_type": "code",
   "execution_count": 98,
   "metadata": {},
   "outputs": [],
   "source": [
    "#pixel wise accuracy\n",
    "\n",
    "# def calculate_pixel_wise_accuracy(true_mask, predicted_mask):\n",
    "    \n",
    "#     #convert true mask to gray scale\n",
    "#     true_mask_gray=cv2.cvtColor(true_mask,cv2.COLOR_BGR2GRAY)\n",
    "#     #convert predicted mask to gray scale\n",
    "#     predicted_mask_gray=cv2.cvtColor(predicted_mask,cv2.COLOR_BGR2GRAY)\n",
    "#     #calculate pixel wise accuracy\n",
    "#     #number of pixels in true mask\n",
    "#     true_pixels=np.sum(true_mask_gray==255)\n",
    "#     #number of pixels in predicted mask\n",
    "#     predicted_pixels=np.sum(predicted_mask_gray==255)\n",
    "#     #number of pixels in true mask and predicted mask\n",
    "#     true_predicted_pixels=np.sum((true_mask_gray==255) & (predicted_mask_gray==255))\n",
    "#     #pixel wise accuracy\n",
    "#     pixel_wise_accuracy=true_predicted_pixels/(true_pixels+predicted_pixels-true_predicted_pixels)\n",
    "\n",
    "#     return pixel_wise_accuracy"
   ]
  },
  {
   "cell_type": "code",
   "execution_count": 99,
   "metadata": {},
   "outputs": [],
   "source": [
    "#pixel wise accuracy\n",
    "\n",
    "def calculate_pixel_wise_accuracy(true_mask, predicted_mask):\n",
    "    \n",
    "    #convert true mask to gray scale\n",
    "    true_mask_gray=cv2.cvtColor(true_mask,cv2.COLOR_BGR2GRAY)\n",
    "    #convert predicted mask to gray scale\n",
    "    predicted_mask_gray=cv2.cvtColor(predicted_mask,cv2.COLOR_BGR2GRAY)\n",
    "    #calculate pixel wise accuracy\n",
    "    #number of pixels in true mask\n",
    "    true_positive=np.sum((true_mask_gray==255) & (predicted_mask_gray==255))\n",
    "    false_positive=np.sum((true_mask_gray==0) & (predicted_mask_gray==255))\n",
    "    false_negative=np.sum((true_mask_gray==255) & (predicted_mask_gray==0))\n",
    "    true_negative=np.sum((true_mask_gray==0) & (predicted_mask_gray==0))\n",
    "\n",
    "\n",
    "    #pixel wise accuracy\n",
    "    pixel_wise_accuracy=(true_positive+true_negative)/(true_positive+true_negative+false_positive+false_negative)\n",
    "\n",
    "    return pixel_wise_accuracy"
   ]
  },
  {
   "cell_type": "markdown",
   "metadata": {},
   "source": [
    "### Bbox"
   ]
  },
  {
   "cell_type": "code",
   "execution_count": 100,
   "metadata": {},
   "outputs": [
    {
     "name": "stdout",
     "output_type": "stream",
     "text": [
      "                                 File       IOU  Dice Score  \\\n",
      "0      benign (1)_mask_prediction.png  0.839858    0.912959   \n",
      "1     benign (10)_mask_prediction.png  0.939535    0.968825   \n",
      "2    benign (100)_mask_prediction.png  0.827932    0.905867   \n",
      "3    benign (101)_mask_prediction.png  0.863964    0.927018   \n",
      "4    benign (102)_mask_prediction.png  0.921084    0.958921   \n",
      "..                                ...       ...         ...   \n",
      "431   benign (94)_mask_prediction.png  0.805434    0.892233   \n",
      "432   benign (95)_mask_prediction.png  0.801372    0.889735   \n",
      "433   benign (96)_mask_prediction.png  0.816893    0.899220   \n",
      "434   benign (97)_mask_prediction.png  0.792402    0.884179   \n",
      "435   benign (98)_mask_prediction.png  0.621366    0.766472   \n",
      "\n",
      "     Pixel Wise Accuracy  \n",
      "0               0.999320  \n",
      "1               0.994989  \n",
      "2               0.991903  \n",
      "3               0.997871  \n",
      "4               0.996101  \n",
      "..                   ...  \n",
      "431             0.995228  \n",
      "432             0.997350  \n",
      "433             0.974647  \n",
      "434             0.963470  \n",
      "435             0.980945  \n",
      "\n",
      "[436 rows x 4 columns]\n"
     ]
    }
   ],
   "source": [
    "#\n",
    "benign_predictions_dir=os.path.join('..', 'BreastSAM impl', 'SAM_predictions_BBox', 'benign')\n",
    "benign_gt_dir=os.path.join('..','Dataset_BUSI_with_GT','benign')\n",
    "\n",
    "#file names in benign_gt_dir =benign (1)_mask.png\n",
    "#file names in benign_predictions_dir =benign (1)_mask_prediction.png\n",
    "\n",
    "\n",
    "list_of_benign_predictions_dir=os.listdir(benign_predictions_dir)\n",
    "\n",
    "df=pd.DataFrame(columns=['File','IOU','Dice Score','Pixel Wise Accuracy'])\n",
    "\n",
    "for files in list_of_benign_predictions_dir:\n",
    "    \n",
    "    #read true mask\n",
    "    true_mask=cv2.imread(os.path.join(benign_gt_dir,files.replace('_mask_prediction.png','_mask.png')))\n",
    "    #read predicted mask\n",
    "    predicted_mask=cv2.imread(os.path.join(benign_predictions_dir,files))\n",
    "    \n",
    "    #calculate iou\n",
    "    iou=calculate_iou(true_mask,predicted_mask)\n",
    "    #calculate dice score\n",
    "    dice_score=calculate_dice_score(true_mask,predicted_mask)\n",
    "    #calculate pixel wise accuracy\n",
    "    pixel_wise_accuracy=calculate_pixel_wise_accuracy(true_mask,predicted_mask)\n",
    "\n",
    "    #dont use append method to add rows to dataframe\n",
    "\n",
    "    df.loc[len(df)]=[files,iou,dice_score,pixel_wise_accuracy]\n",
    "    \n",
    "\n",
    "\n",
    "print(df)\n",
    "\n",
    "#save the dataframe to a csv file\n",
    "df.to_csv(os.path.join('..','BreastSAM impl','benign_metrics.csv'),index=False)"
   ]
  },
  {
   "cell_type": "code",
   "execution_count": 101,
   "metadata": {},
   "outputs": [],
   "source": [
    "def calculate_metrics(benign_gt_dir, benign_predictions_dir,csv_file_name):\n",
    "    list_of_benign_predictions_dir = os.listdir(benign_predictions_dir)\n",
    "\n",
    "    df = pd.DataFrame(columns=['File', 'IOU', 'Dice Score', 'Pixel Wise Accuracy'])\n",
    "\n",
    "    for files in list_of_benign_predictions_dir:\n",
    "        # read true mask\n",
    "        #print(files)\n",
    "        true_mask = cv2.imread(os.path.join(benign_gt_dir, files.replace('_mask_prediction.png', '_mask.png')))\n",
    "        # read predicted mask\n",
    "        predicted_mask = cv2.imread(os.path.join(benign_predictions_dir, files))\n",
    "\n",
    "        # calculate iou\n",
    "        iou = calculate_iou(true_mask, predicted_mask)\n",
    "        # calculate dice score\n",
    "        dice_score = calculate_dice_score(true_mask, predicted_mask)\n",
    "        # calculate pixel wise accuracy\n",
    "        pixel_wise_accuracy = calculate_pixel_wise_accuracy(true_mask, predicted_mask)\n",
    "\n",
    "        df.loc[len(df)] = [files, iou, dice_score, pixel_wise_accuracy]\n",
    "\n",
    "    print(df.head())\n",
    "\n",
    "    # save the dataframe to a csv file\n",
    "    df.to_csv(csv_file_name, index=False)\n",
    "    \n",
    "    \n",
    "    average_dice_score=np.mean(df['Dice Score'])\n",
    "    average_iou=np.mean(df['IOU'])\n",
    "    average_pixel_wise_accuracy=np.mean(df['Pixel Wise Accuracy'])\n",
    "    \n",
    "    return average_dice_score,average_iou,average_pixel_wise_accuracy"
   ]
  },
  {
   "cell_type": "markdown",
   "metadata": {},
   "source": [
    "## only box prompt"
   ]
  },
  {
   "cell_type": "code",
   "execution_count": 102,
   "metadata": {},
   "outputs": [
    {
     "name": "stdout",
     "output_type": "stream",
     "text": [
      "                               File       IOU  Dice Score  Pixel Wise Accuracy\n",
      "0    benign (1)_mask_prediction.png  0.839858    0.912959             0.999320\n",
      "1   benign (10)_mask_prediction.png  0.939535    0.968825             0.994989\n",
      "2  benign (100)_mask_prediction.png  0.827932    0.905867             0.991903\n",
      "3  benign (101)_mask_prediction.png  0.863964    0.927018             0.997871\n",
      "4  benign (102)_mask_prediction.png  0.921084    0.958921             0.996101\n",
      "Average Dice Score: 0.8639273011884666\n",
      "Average IOU: 0.7751496027403703\n",
      "Average Pixel Wise Accuracy: 0.9836931349911328\n"
     ]
    }
   ],
   "source": [
    "benign_predictions_dir=os.path.join('..', 'BreastSAM impl', 'SAM_predictions_BBox', 'benign')\n",
    "benign_gt_dir=os.path.join('..','Dataset_BUSI_with_GT','benign')\n",
    "\n",
    "average_dice_score,average_iou,average_pixel_wise_accuracy=calculate_metrics(benign_gt_dir,benign_predictions_dir,os.path.join('..','BreastSAM impl','benign_box_metrics.csv'))\n",
    "\n",
    "print('Average Dice Score:',average_dice_score)\n",
    "print('Average IOU:',average_iou)\n",
    "print('Average Pixel Wise Accuracy:',average_pixel_wise_accuracy)"
   ]
  },
  {
   "cell_type": "code",
   "execution_count": 103,
   "metadata": {},
   "outputs": [
    {
     "name": "stdout",
     "output_type": "stream",
     "text": [
      "                                  File       IOU  Dice Score  \\\n",
      "0    malignant (1)_mask_prediction.png  0.768956    0.869390   \n",
      "1   malignant (10)_mask_prediction.png  0.690886    0.817188   \n",
      "2  malignant (100)_mask_prediction.png  0.693924    0.819310   \n",
      "3  malignant (101)_mask_prediction.png  0.633904    0.775938   \n",
      "4  malignant (102)_mask_prediction.png  0.579419    0.733712   \n",
      "\n",
      "   Pixel Wise Accuracy  \n",
      "0             0.918868  \n",
      "1             0.989222  \n",
      "2             0.981323  \n",
      "3             0.948875  \n",
      "4             0.946530  \n",
      "Average Dice Score: 0.8231403836728571\n",
      "Average IOU: 0.7083671832802122\n",
      "Average Pixel Wise Accuracy: 0.954822882845514\n"
     ]
    }
   ],
   "source": [
    "malignant_predictions_dir=os.path.join('..', 'BreastSAM impl', 'SAM_predictions_BBox', 'malignant')\n",
    "malignant_gt_dir=os.path.join('..','Dataset_BUSI_with_GT','malignant')\n",
    "\n",
    "average_dice_score,average_iou,average_pixel_wise_accuracy=calculate_metrics(malignant_gt_dir,malignant_predictions_dir,os.path.join('..','BreastSAM impl','malignant_box_metrics.csv'))\n",
    "\n",
    "print('Average Dice Score:',average_dice_score)\n",
    "print('Average IOU:',average_iou)\n",
    "print('Average Pixel Wise Accuracy:',average_pixel_wise_accuracy)"
   ]
  },
  {
   "cell_type": "markdown",
   "metadata": {},
   "source": [
    "## with box and point prompt"
   ]
  },
  {
   "cell_type": "code",
   "execution_count": 104,
   "metadata": {},
   "outputs": [
    {
     "name": "stdout",
     "output_type": "stream",
     "text": [
      "                               File       IOU  Dice Score  Pixel Wise Accuracy\n",
      "0    benign (1)_mask_prediction.png  0.838825    0.912349             0.999316\n",
      "1   benign (10)_mask_prediction.png  0.941567    0.969904             0.995155\n",
      "2  benign (100)_mask_prediction.png  0.826915    0.905258             0.991851\n",
      "3  benign (101)_mask_prediction.png  0.866155    0.928278             0.997905\n",
      "4  benign (102)_mask_prediction.png  0.925291    0.961196             0.996302\n",
      "Average Dice Score: 0.8771654120817105\n",
      "Average IOU: 0.79010434918551\n",
      "Average Pixel Wise Accuracy: 0.9844730317006107\n"
     ]
    }
   ],
   "source": [
    "benign_gt_dir=os.path.join('..','Dataset_BUSI_with_GT','benign')\n",
    "benign_point_box_dir=os.path.join('..','BreastSAM impl','SAM_predictions_BBoxPoint','benign')\n",
    "\n",
    "average_dice_score,average_iou,average_pixel_wise_accuracy=calculate_metrics(benign_gt_dir,benign_point_box_dir,os.path.join('..','BreastSAM impl','benign_point_box_metrics.csv'))\n",
    "\n",
    "print('Average Dice Score:',average_dice_score)\n",
    "print('Average IOU:',average_iou)\n",
    "print('Average Pixel Wise Accuracy:',average_pixel_wise_accuracy)"
   ]
  },
  {
   "cell_type": "code",
   "execution_count": 105,
   "metadata": {},
   "outputs": [
    {
     "name": "stdout",
     "output_type": "stream",
     "text": [
      "                                  File       IOU  Dice Score  \\\n",
      "0    malignant (1)_mask_prediction.png  0.754960    0.860373   \n",
      "1   malignant (10)_mask_prediction.png  0.664978    0.798783   \n",
      "2  malignant (100)_mask_prediction.png  0.616424    0.762701   \n",
      "3  malignant (101)_mask_prediction.png  0.630228    0.773178   \n",
      "4  malignant (102)_mask_prediction.png  0.576915    0.731701   \n",
      "\n",
      "   Pixel Wise Accuracy  \n",
      "0             0.913572  \n",
      "1             0.988709  \n",
      "2             0.976763  \n",
      "3             0.948377  \n",
      "4             0.946221  \n",
      "Average Dice Score: 0.8304638058228664\n",
      "Average IOU: 0.7155563276327351\n",
      "Average Pixel Wise Accuracy: 0.9551953264603636\n"
     ]
    }
   ],
   "source": [
    "malignant_gt_dir=os.path.join('..','Dataset_BUSI_with_GT','malignant')\n",
    "malignant_point_box_dir=os.path.join('..','BreastSAM impl','SAM_predictions_BBoxPoint','malignant')\n",
    "\n",
    "average_dice_score,average_iou,average_pixel_wise_accuracy=calculate_metrics(malignant_gt_dir,malignant_point_box_dir,os.path.join('..','BreastSAM impl','malignant_point_box_metrics.csv'))\n",
    "\n",
    "print('Average Dice Score:',average_dice_score)\n",
    "print('Average IOU:',average_iou)\n",
    "print('Average Pixel Wise Accuracy:',average_pixel_wise_accuracy)\n"
   ]
  },
  {
   "cell_type": "markdown",
   "metadata": {},
   "source": [
    "### Point "
   ]
  },
  {
   "cell_type": "code",
   "execution_count": 106,
   "metadata": {},
   "outputs": [
    {
     "name": "stdout",
     "output_type": "stream",
     "text": [
      "                               File       IOU  Dice Score  Pixel Wise Accuracy\n",
      "0    benign (1)_mask_prediction.png  0.846985    0.917154             0.999358\n",
      "1   benign (10)_mask_prediction.png  0.943227    0.970784             0.995287\n",
      "2  benign (100)_mask_prediction.png  0.822899    0.902847             0.991668\n",
      "3  benign (101)_mask_prediction.png  0.872422    0.931865             0.998002\n",
      "4  benign (102)_mask_prediction.png  0.920207    0.958446             0.995979\n",
      "Average Dice Score: 0.6771114339553682\n",
      "Average IOU: 0.5896810091898083\n",
      "Average Pixel Wise Accuracy: 0.896623810514078\n"
     ]
    }
   ],
   "source": [
    "benign_gt_dir=os.path.join('..','Dataset_BUSI_with_GT','benign')\n",
    "benign_point_box_dir=os.path.join('..','BreastSAM impl','SAM_predictions_Point','benign')\n",
    "\n",
    "average_dice_score,average_iou,average_pixel_wise_accuracy=calculate_metrics(benign_gt_dir,benign_point_box_dir,os.path.join('..','BreastSAM impl','benign_point_metrics.csv'))\n",
    "\n",
    "print('Average Dice Score:',average_dice_score)\n",
    "print('Average IOU:',average_iou)\n",
    "print('Average Pixel Wise Accuracy:',average_pixel_wise_accuracy)"
   ]
  },
  {
   "cell_type": "code",
   "execution_count": 107,
   "metadata": {},
   "outputs": [
    {
     "name": "stdout",
     "output_type": "stream",
     "text": [
      "                                  File       IOU  Dice Score  \\\n",
      "0    malignant (1)_mask_prediction.png  0.675349    0.806219   \n",
      "1   malignant (10)_mask_prediction.png  0.088316    0.162298   \n",
      "2  malignant (100)_mask_prediction.png  0.355373    0.524392   \n",
      "3  malignant (101)_mask_prediction.png  0.604435    0.753455   \n",
      "4  malignant (102)_mask_prediction.png  0.513201    0.678299   \n",
      "\n",
      "   Pixel Wise Accuracy  \n",
      "0             0.889517  \n",
      "1             0.972539  \n",
      "2             0.961133  \n",
      "3             0.944888  \n",
      "4             0.938189  \n",
      "Average Dice Score: 0.5883291313479885\n",
      "Average IOU: 0.46138997781788166\n",
      "Average Pixel Wise Accuracy: 0.8071209403626128\n"
     ]
    }
   ],
   "source": [
    "malignant_gt_dir=os.path.join('..','Dataset_BUSI_with_GT','malignant')\n",
    "malignant_point_box_dir=os.path.join('..','BreastSAM impl','SAM_predictions_Point','malignant')\n",
    "\n",
    "average_dice_score,average_iou,average_pixel_wise_accuracy=calculate_metrics(malignant_gt_dir,malignant_point_box_dir,os.path.join('..','BreastSAM impl','malignant_point_metrics.csv'))\n",
    "\n",
    "print('Average Dice Score:',average_dice_score)\n",
    "print('Average IOU:',average_iou)\n",
    "print('Average Pixel Wise Accuracy:',average_pixel_wise_accuracy)\n"
   ]
  }
 ],
 "metadata": {
  "kernelspec": {
   "display_name": "base",
   "language": "python",
   "name": "python3"
  },
  "language_info": {
   "codemirror_mode": {
    "name": "ipython",
    "version": 3
   },
   "file_extension": ".py",
   "mimetype": "text/x-python",
   "name": "python",
   "nbconvert_exporter": "python",
   "pygments_lexer": "ipython3",
   "version": "3.11.7"
  }
 },
 "nbformat": 4,
 "nbformat_minor": 2
}
