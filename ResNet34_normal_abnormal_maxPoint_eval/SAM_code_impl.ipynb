{
 "cells": [
  {
   "cell_type": "code",
   "execution_count": 1,
   "metadata": {},
   "outputs": [],
   "source": [
    "# # uncomment to install segment anything and other dependencies\n",
    "#!pip install git+https://github.com/facebookresearch/segment-anything.git\n",
    "#!pip install opencv-python pycocotools matplotlib onnxruntime onnx"
   ]
  },
  {
   "cell_type": "code",
   "execution_count": 3,
   "metadata": {},
   "outputs": [],
   "source": [
    "# import necessary libraries\n",
    "import torch\n",
    "import torchvision\n",
    "import numpy as np\n",
    "import matplotlib.pyplot as plt\n",
    "import cv2\n",
    "import pandas as pd\n",
    "from segment_anything import sam_model_registry, SamPredictor\n",
    "import os\n",
    "import gc\n",
    "import tqdm"
   ]
  },
  {
   "cell_type": "code",
   "execution_count": 4,
   "metadata": {},
   "outputs": [],
   "source": [
    "# Define variables\n",
    "SAM_CHECKPOINT = os.path.join('..','SAM model','sam_vit_l_0b3195.pth')\n",
    "MODEL_TYPE = 'vit_l'\n",
    "DEVICE = 'cuda' if torch.cuda.is_available() else 'cpu'"
   ]
  },
  {
   "cell_type": "code",
   "execution_count": 5,
   "metadata": {},
   "outputs": [],
   "source": [
    "# Load the model\n",
    "sam_model = sam_model_registry[MODEL_TYPE](checkpoint=SAM_CHECKPOINT)\n",
    "sam_model = sam_model.to(DEVICE)\n",
    "sam_promt2mask = SamPredictor(sam_model)"
   ]
  },
  {
   "cell_type": "code",
   "execution_count": 6,
   "metadata": {},
   "outputs": [],
   "source": [
    "# Load the dataset\n",
    "valid_dataframe_path = os.path.join('PromptSAM','prompt_valid_normal_abnormal_maxon.csv')\n",
    "# malignant_dataframe_path = os.path.join('PromptSAM','malignant_bounding_box.csv')\n",
    "\n",
    "valid_dataframe = pd.read_csv(valid_dataframe_path)\n",
    "# malignant_dataframe = pd.read_csv(malignant_dataframe_path)"
   ]
  },
  {
   "cell_type": "code",
   "execution_count": 7,
   "metadata": {},
   "outputs": [
    {
     "data": {
      "text/html": [
       "<div>\n",
       "<style scoped>\n",
       "    .dataframe tbody tr th:only-of-type {\n",
       "        vertical-align: middle;\n",
       "    }\n",
       "\n",
       "    .dataframe tbody tr th {\n",
       "        vertical-align: top;\n",
       "    }\n",
       "\n",
       "    .dataframe thead th {\n",
       "        text-align: right;\n",
       "    }\n",
       "</style>\n",
       "<table border=\"1\" class=\"dataframe\">\n",
       "  <thead>\n",
       "    <tr style=\"text-align: right;\">\n",
       "      <th></th>\n",
       "      <th>image</th>\n",
       "      <th>x_min</th>\n",
       "      <th>y_min</th>\n",
       "      <th>x_max</th>\n",
       "      <th>y_max</th>\n",
       "      <th>center_x</th>\n",
       "      <th>center_y</th>\n",
       "      <th>path</th>\n",
       "      <th>true_label</th>\n",
       "      <th>predicted_label</th>\n",
       "    </tr>\n",
       "  </thead>\n",
       "  <tbody>\n",
       "    <tr>\n",
       "      <th>0</th>\n",
       "      <td>benign (100)_mask.png</td>\n",
       "      <td>0</td>\n",
       "      <td>0</td>\n",
       "      <td>323</td>\n",
       "      <td>202</td>\n",
       "      <td>69</td>\n",
       "      <td>99</td>\n",
       "      <td>..\\Dataset_BUSI_with_GT\\benign\\benign (100).png</td>\n",
       "      <td>2</td>\n",
       "      <td>2</td>\n",
       "    </tr>\n",
       "    <tr>\n",
       "      <th>1</th>\n",
       "      <td>benign (105)_mask.png</td>\n",
       "      <td>342</td>\n",
       "      <td>62</td>\n",
       "      <td>724</td>\n",
       "      <td>329</td>\n",
       "      <td>563</td>\n",
       "      <td>204</td>\n",
       "      <td>..\\Dataset_BUSI_with_GT\\benign\\benign (105).png</td>\n",
       "      <td>2</td>\n",
       "      <td>2</td>\n",
       "    </tr>\n",
       "    <tr>\n",
       "      <th>2</th>\n",
       "      <td>benign (108)_mask.png</td>\n",
       "      <td>405</td>\n",
       "      <td>0</td>\n",
       "      <td>769</td>\n",
       "      <td>215</td>\n",
       "      <td>600</td>\n",
       "      <td>122</td>\n",
       "      <td>..\\Dataset_BUSI_with_GT\\benign\\benign (108).png</td>\n",
       "      <td>2</td>\n",
       "      <td>2</td>\n",
       "    </tr>\n",
       "    <tr>\n",
       "      <th>3</th>\n",
       "      <td>benign (12)_mask.png</td>\n",
       "      <td>305</td>\n",
       "      <td>84</td>\n",
       "      <td>532</td>\n",
       "      <td>308</td>\n",
       "      <td>432</td>\n",
       "      <td>201</td>\n",
       "      <td>..\\Dataset_BUSI_with_GT\\benign\\benign (12).png</td>\n",
       "      <td>2</td>\n",
       "      <td>2</td>\n",
       "    </tr>\n",
       "    <tr>\n",
       "      <th>4</th>\n",
       "      <td>benign (125)_mask.png</td>\n",
       "      <td>124</td>\n",
       "      <td>67</td>\n",
       "      <td>421</td>\n",
       "      <td>325</td>\n",
       "      <td>270</td>\n",
       "      <td>203</td>\n",
       "      <td>..\\Dataset_BUSI_with_GT\\benign\\benign (125).png</td>\n",
       "      <td>2</td>\n",
       "      <td>2</td>\n",
       "    </tr>\n",
       "  </tbody>\n",
       "</table>\n",
       "</div>"
      ],
      "text/plain": [
       "                   image  x_min  y_min  x_max  y_max  center_x  center_y  \\\n",
       "0  benign (100)_mask.png      0      0    323    202        69        99   \n",
       "1  benign (105)_mask.png    342     62    724    329       563       204   \n",
       "2  benign (108)_mask.png    405      0    769    215       600       122   \n",
       "3   benign (12)_mask.png    305     84    532    308       432       201   \n",
       "4  benign (125)_mask.png    124     67    421    325       270       203   \n",
       "\n",
       "                                              path  true_label  \\\n",
       "0  ..\\Dataset_BUSI_with_GT\\benign\\benign (100).png           2   \n",
       "1  ..\\Dataset_BUSI_with_GT\\benign\\benign (105).png           2   \n",
       "2  ..\\Dataset_BUSI_with_GT\\benign\\benign (108).png           2   \n",
       "3   ..\\Dataset_BUSI_with_GT\\benign\\benign (12).png           2   \n",
       "4  ..\\Dataset_BUSI_with_GT\\benign\\benign (125).png           2   \n",
       "\n",
       "   predicted_label  \n",
       "0                2  \n",
       "1                2  \n",
       "2                2  \n",
       "3                2  \n",
       "4                2  "
      ]
     },
     "execution_count": 7,
     "metadata": {},
     "output_type": "execute_result"
    }
   ],
   "source": [
    "# visualize the benign dataframe\n",
    "valid_dataframe.head()"
   ]
  },
  {
   "cell_type": "code",
   "execution_count": 8,
   "metadata": {},
   "outputs": [
    {
     "data": {
      "text/html": [
       "<div>\n",
       "<style scoped>\n",
       "    .dataframe tbody tr th:only-of-type {\n",
       "        vertical-align: middle;\n",
       "    }\n",
       "\n",
       "    .dataframe tbody tr th {\n",
       "        vertical-align: top;\n",
       "    }\n",
       "\n",
       "    .dataframe thead th {\n",
       "        text-align: right;\n",
       "    }\n",
       "</style>\n",
       "<table border=\"1\" class=\"dataframe\">\n",
       "  <thead>\n",
       "    <tr style=\"text-align: right;\">\n",
       "      <th></th>\n",
       "      <th>image</th>\n",
       "      <th>x_min</th>\n",
       "      <th>y_min</th>\n",
       "      <th>x_max</th>\n",
       "      <th>y_max</th>\n",
       "      <th>center_x</th>\n",
       "      <th>center_y</th>\n",
       "      <th>path</th>\n",
       "      <th>true_label</th>\n",
       "      <th>predicted_label</th>\n",
       "    </tr>\n",
       "  </thead>\n",
       "  <tbody>\n",
       "    <tr>\n",
       "      <th>0</th>\n",
       "      <td>benign (1)_mask.png</td>\n",
       "      <td>230</td>\n",
       "      <td>50</td>\n",
       "      <td>464</td>\n",
       "      <td>250</td>\n",
       "      <td>358</td>\n",
       "      <td>166</td>\n",
       "      <td>..\\Dataset_BUSI_with_GT\\benign\\benign (1).png</td>\n",
       "      <td>2</td>\n",
       "      <td>2</td>\n",
       "    </tr>\n",
       "    <tr>\n",
       "      <th>1</th>\n",
       "      <td>benign (10)_mask.png</td>\n",
       "      <td>82</td>\n",
       "      <td>0</td>\n",
       "      <td>381</td>\n",
       "      <td>276</td>\n",
       "      <td>240</td>\n",
       "      <td>125</td>\n",
       "      <td>..\\Dataset_BUSI_with_GT\\benign\\benign (10).png</td>\n",
       "      <td>2</td>\n",
       "      <td>2</td>\n",
       "    </tr>\n",
       "    <tr>\n",
       "      <th>2</th>\n",
       "      <td>benign (101)_mask.png</td>\n",
       "      <td>354</td>\n",
       "      <td>116</td>\n",
       "      <td>563</td>\n",
       "      <td>346</td>\n",
       "      <td>442</td>\n",
       "      <td>234</td>\n",
       "      <td>..\\Dataset_BUSI_with_GT\\benign\\benign (101).png</td>\n",
       "      <td>2</td>\n",
       "      <td>2</td>\n",
       "    </tr>\n",
       "    <tr>\n",
       "      <th>3</th>\n",
       "      <td>benign (102)_mask.png</td>\n",
       "      <td>220</td>\n",
       "      <td>0</td>\n",
       "      <td>560</td>\n",
       "      <td>239</td>\n",
       "      <td>404</td>\n",
       "      <td>127</td>\n",
       "      <td>..\\Dataset_BUSI_with_GT\\benign\\benign (102).png</td>\n",
       "      <td>2</td>\n",
       "      <td>2</td>\n",
       "    </tr>\n",
       "    <tr>\n",
       "      <th>4</th>\n",
       "      <td>benign (103)_mask.png</td>\n",
       "      <td>157</td>\n",
       "      <td>99</td>\n",
       "      <td>492</td>\n",
       "      <td>370</td>\n",
       "      <td>379</td>\n",
       "      <td>208</td>\n",
       "      <td>..\\Dataset_BUSI_with_GT\\benign\\benign (103).png</td>\n",
       "      <td>2</td>\n",
       "      <td>2</td>\n",
       "    </tr>\n",
       "  </tbody>\n",
       "</table>\n",
       "</div>"
      ],
      "text/plain": [
       "                   image  x_min  y_min  x_max  y_max  center_x  center_y  \\\n",
       "0    benign (1)_mask.png    230     50    464    250       358       166   \n",
       "1   benign (10)_mask.png     82      0    381    276       240       125   \n",
       "2  benign (101)_mask.png    354    116    563    346       442       234   \n",
       "3  benign (102)_mask.png    220      0    560    239       404       127   \n",
       "4  benign (103)_mask.png    157     99    492    370       379       208   \n",
       "\n",
       "                                              path  true_label  \\\n",
       "0    ..\\Dataset_BUSI_with_GT\\benign\\benign (1).png           2   \n",
       "1   ..\\Dataset_BUSI_with_GT\\benign\\benign (10).png           2   \n",
       "2  ..\\Dataset_BUSI_with_GT\\benign\\benign (101).png           2   \n",
       "3  ..\\Dataset_BUSI_with_GT\\benign\\benign (102).png           2   \n",
       "4  ..\\Dataset_BUSI_with_GT\\benign\\benign (103).png           2   \n",
       "\n",
       "   predicted_label  \n",
       "0                2  \n",
       "1                2  \n",
       "2                2  \n",
       "3                2  \n",
       "4                2  "
      ]
     },
     "execution_count": 8,
     "metadata": {},
     "output_type": "execute_result"
    }
   ],
   "source": [
    "train_dataframe_path = os.path.join('PromptSAM','prompt_train_normal_abnormal_maxon.csv')\n",
    "train_dataframe = pd.read_csv(train_dataframe_path)\n",
    "train_dataframe.head()"
   ]
  },
  {
   "cell_type": "code",
   "execution_count": 9,
   "metadata": {},
   "outputs": [],
   "source": [
    "def fix_sep(path):\n",
    "    '''\n",
    "    fixes the path separator to the current OS\n",
    "    '''\n",
    "    not_sep = {'\\\\': '/', '/': '\\\\'}\n",
    "\n",
    "    if not_sep[os.sep] in path:\n",
    "        return path.replace(not_sep[os.sep], os.sep)\n",
    "    else:\n",
    "        return path\n"
   ]
  },
  {
   "cell_type": "code",
   "execution_count": 10,
   "metadata": {},
   "outputs": [],
   "source": [
    "from segment_anything.utils.transforms import ResizeLongestSide\n",
    "resize_transform = ResizeLongestSide(sam_model.image_encoder.img_size)\n",
    "\n",
    "# prepare image by resizing and converting to tensor\n",
    "def prepare_image(image, transform, model):\n",
    "    image = transform.apply_image(image)\n",
    "    image = torch.as_tensor(image, device=model.device) \n",
    "    return image.permute(2, 0, 1).contiguous()\n",
    "\n",
    "# define to prepare batch of images\n",
    "def batch_dataloader(data_frame, batch_size, prompt , shuffle=True, model=sam_model, random_state=None):\n",
    "    batch = []\n",
    "    indices = []\n",
    "    # shuffle the data\n",
    "    if shuffle:\n",
    "        data_frame = data_frame.sample(frac=1, random_state=random_state)\n",
    "\n",
    "    for i, row in data_frame.iterrows():\n",
    "        \n",
    "        ###changes made here removed .. since its in the dataframe\n",
    "        img_path = os.path.join(row['path'])\n",
    "        img_path = fix_sep(img_path)\n",
    "        # read the image and convert to RGB\n",
    "        image = cv2.imread(img_path)\n",
    "        image = cv2.cvtColor(image, cv2.COLOR_BGR2RGB)\n",
    "        og_size = image.shape[:2]\n",
    "\n",
    "        # prepare the image\n",
    "        image = prepare_image(image, resize_transform, model)\n",
    "\n",
    "        # read the bounding box\n",
    "        bbox = torch.tensor([row['x_min'], row['y_min'], row['x_max'], row['y_max']]).view(1, 4)\n",
    "        bbox = bbox.to(model.device)\n",
    "        bbox = resize_transform.apply_boxes_torch(bbox, og_size)\n",
    "\n",
    "        if prompt =='BBox+Point' or prompt =='Point':\n",
    "            # read point prompts\n",
    "            point_coords = torch.tensor([row['center_x'], row['center_y']]).view(1, 1, 2)\n",
    "            point_coords = resize_transform.apply_coords_torch(point_coords, og_size)  \n",
    "            point_coords = point_coords.to(model.device)\n",
    "\n",
    "            point_labels = torch.tensor(1).view(1, 1)\n",
    "            point_labels = point_labels.to(model.device)\n",
    "            \n",
    "            if prompt =='BBox+Point':\n",
    "                # create dictionary\n",
    "                img_dict = {\n",
    "                    'image': image, \n",
    "                    'boxes': bbox,\n",
    "                    'original_size': og_size,\n",
    "                    'point_coords': point_coords,\n",
    "                    'point_labels': point_labels,\n",
    "                }\n",
    "            \n",
    "            else:\n",
    "                # create dictionary\n",
    "                img_dict = {\n",
    "                    'image': image,\n",
    "                    'point_coords': point_coords,\n",
    "                    'point_labels': point_labels,\n",
    "                    'original_size': og_size,\n",
    "                }\n",
    "            \n",
    "        elif prompt == 'BBox':\n",
    "            # create dictionary\n",
    "            img_dict = {\n",
    "                'image': image,\n",
    "                'boxes': bbox,\n",
    "                'original_size': og_size\n",
    "            }\n",
    "        else:\n",
    "            raise ValueError('prompt should be either BBox, BBox+Point or Point')\n",
    "        \n",
    "        indices.append(i)\n",
    "        batch.append(img_dict)\n",
    "\n",
    "        if len(batch) == batch_size:\n",
    "            yield indices,batch\n",
    "            batch = []\n",
    "            indices = []\n"
   ]
  },
  {
   "cell_type": "code",
   "execution_count": 47,
   "metadata": {},
   "outputs": [
    {
     "data": {
      "image/png": "[encoded data removed]",
      "text/plain": [
       "<Figure size 640x480 with 1 Axes>"
      ]
     },
     "metadata": {},
     "output_type": "display_data"
    }
   ],
   "source": [
    "# check if images, boxes and points are transformed correctly\n",
    "import matplotlib.patches as patches\n",
    "for batch,item in batch_dataloader(valid_dataframe, 1, 'BBox+Point', shuffle=True, random_state=None):\n",
    "    item=item[0]\n",
    "\n",
    "    img = item['image'].cpu()\n",
    "    boxes = item['boxes']\n",
    "    point_coords = item['point_coords'].cpu().numpy().squeeze().squeeze()\n",
    "    point_labels = item['point_labels']\n",
    "\n",
    "    fig,ax = plt.subplots(1)\n",
    "    ax.imshow(img.permute(1, 2, 0))\n",
    "    for box in boxes:\n",
    "        box = box.cpu().numpy()\n",
    "        rect = patches.Rectangle((box[0], box[1]), box[2]-box[0], box[3]-box[1], linewidth=1, edgecolor='r', facecolor='none')\n",
    "    ax.add_patch(rect)\n",
    "    ax.scatter(point_coords[0],point_coords[1])\n",
    "    ax.axis('off')\n",
    "    plt.show()\n",
    "    break"
   ]
  },
  {
   "cell_type": "code",
   "execution_count": 48,
   "metadata": {},
   "outputs": [],
   "source": [
    "def clear_vram():\n",
    "    if DEVICE == 'cuda':\n",
    "        torch.cuda.empty_cache()\n",
    "        gc.collect()\n",
    "    else:\n",
    "        pass"
   ]
  },
  {
   "cell_type": "code",
   "execution_count": 49,
   "metadata": {},
   "outputs": [],
   "source": [
    "# define function to unpack batched output and save the masks\n",
    "def unpack_and_save_op(indices, batch_op, data_frame,save_dir):\n",
    "    '''\n",
    "    indices: list of indices in original data_frame\n",
    "    batch_op: list of output dictionaries\n",
    "    data_frame: original data_frame\n",
    "    save_dir: directory to save the output masks\n",
    "    '''\n",
    "    # Check if save_dir exists, create it if it doesn't\n",
    "    if not os.path.exists(save_dir):\n",
    "        os.makedirs(save_dir)\n",
    "        \n",
    "    #make directories for benign and malignant and normal\n",
    "    if not os.path.exists(os.path.join(save_dir, 'benign')):\n",
    "        os.makedirs(os.path.join(save_dir, 'benign'))\n",
    "    if not os.path.exists(os.path.join(save_dir, 'malignant')):\n",
    "        os.makedirs(os.path.join(save_dir, 'malignant'))\n",
    "    if not os.path.exists(os.path.join(save_dir, 'normal')):\n",
    "        os.makedirs(os.path.join(save_dir, 'normal'))\n",
    "        \n",
    "    \n",
    "    for i, index in enumerate(indices):\n",
    "        # get the row for index\n",
    "        row = data_frame.iloc[index]\n",
    "\n",
    "        # get the output dictionary\n",
    "        op_dict = batch_op[i]\n",
    "\n",
    "        # get the mask\n",
    "        mask = op_dict['masks'].squeeze().cpu().numpy()\n",
    "\n",
    "        # save mask to given directory with name in dafaframe with added prediction word\n",
    "        #mask_path = os.path.join(save_dir, row['image'].replace('mask.png', 'mask_prediction.png'))\n",
    "        #print(f'Saving mask at {mask_path}')\n",
    "        #saave acording to the name if benign in image save in benign folder and if malignant in image save in malignant folder\n",
    "        if 'benign' in row['image']:\n",
    "            mask_path = os.path.join(save_dir, 'benign', fix_sep(row['path']).split(os.sep)[-1].replace('.png', '_mask_prediction.png'))\n",
    "        elif 'malignant' in row['image']:\n",
    "            mask_path = os.path.join(save_dir, 'malignant', fix_sep(row['path']).split(os.sep)[-1].replace('.png', '_mask_prediction.png'))\n",
    "        else:#normal\n",
    "            mask_path = os.path.join(save_dir, 'normal', fix_sep(row['path']).split(os.sep)[-1].replace('.png', '_mask_prediction.png'))\n",
    "            \n",
    "\n",
    "        # save the mask\n",
    "        plt.imsave(mask_path, mask, cmap='gray')\n",
    "\n",
    "        # clear the memory\n",
    "        del op_dict\n",
    "        clear_vram()"
   ]
  },
  {
   "cell_type": "code",
   "execution_count": 50,
   "metadata": {},
   "outputs": [],
   "source": [
    "# clear vram before starting\n",
    "clear_vram()"
   ]
  },
  {
   "cell_type": "markdown",
   "metadata": {},
   "source": [
    "## only BBox prompt"
   ]
  },
  {
   "cell_type": "code",
   "execution_count": 51,
   "metadata": {},
   "outputs": [
    {
     "name": "stderr",
     "output_type": "stream",
     "text": [
      " 99%|█████████▉| 154/155 [01:18<00:00,  1.96it/s]\n"
     ]
    }
   ],
   "source": [
    "path_to_save = os.path.join('SAM_predictions_BBox','valid')\n",
    "with tqdm.tqdm(total=len(valid_dataframe)) as pbar:\n",
    "    for indices, batch in batch_dataloader(valid_dataframe,2,prompt='BBox',shuffle=False):\n",
    "        with torch.no_grad():\n",
    "            batch_op = sam_model(batch, multimask_output = False)\n",
    "            clear_vram()\n",
    "            unpack_and_save_op(indices, batch_op, valid_dataframe,path_to_save) \n",
    "        pbar.update(2)"
   ]
  },
  {
   "cell_type": "code",
   "execution_count": 52,
   "metadata": {},
   "outputs": [
    {
     "name": "stdout",
     "output_type": "stream",
     "text": [
      "Number of images in each folder\n",
      "Benign: 84\n",
      "Malignant: 44\n",
      "Normal: 26\n"
     ]
    }
   ],
   "source": [
    "#print count of images in each folder\n",
    "print('Number of images in each folder')\n",
    "print('Benign:',len(os.listdir(os.path.join('SAM_predictions_BBox','valid','benign'))))\n",
    "print('Malignant:',len(os.listdir(os.path.join('SAM_predictions_BBox','valid','malignant'))))\n",
    "print('Normal:',len(os.listdir(os.path.join('SAM_predictions_BBox','valid','normal'))))\n"
   ]
  },
  {
   "cell_type": "code",
   "execution_count": 53,
   "metadata": {},
   "outputs": [
    {
     "name": "stderr",
     "output_type": "stream",
     "text": [
      "100%|█████████▉| 602/603 [05:06<00:00,  1.96it/s]\n"
     ]
    }
   ],
   "source": [
    "path_to_save = os.path.join('SAM_predictions_BBox','train')\n",
    "with tqdm.tqdm(total=len(train_dataframe)) as pbar:\n",
    "    for indices, batch in batch_dataloader(train_dataframe,2,prompt='BBox',shuffle=False):\n",
    "        with torch.no_grad():\n",
    "            batch_op = sam_model(batch, multimask_output = False)\n",
    "            clear_vram()\n",
    "            unpack_and_save_op(indices, batch_op, train_dataframe, path_to_save)\n",
    "        pbar.update(2)"
   ]
  },
  {
   "cell_type": "code",
   "execution_count": 54,
   "metadata": {},
   "outputs": [
    {
     "name": "stdout",
     "output_type": "stream",
     "text": [
      "Number of images in each folder\n",
      "Benign: 354\n",
      "Malignant: 166\n",
      "Normal: 82\n"
     ]
    }
   ],
   "source": [
    "#print count of images in each folder\n",
    "print('Number of images in each folder')\n",
    "print('Benign:',len(os.listdir(os.path.join('SAM_predictions_BBox','train','benign'))))\n",
    "print('Malignant:',len(os.listdir(os.path.join('SAM_predictions_BBox','train','malignant'))))\n",
    "print('Normal:',len(os.listdir(os.path.join('SAM_predictions_BBox','train','normal'))))"
   ]
  },
  {
   "cell_type": "code",
   "execution_count": 55,
   "metadata": {},
   "outputs": [],
   "source": [
    "# clear vram \n",
    "clear_vram()"
   ]
  },
  {
   "cell_type": "markdown",
   "metadata": {},
   "source": [
    "## only Point prompt"
   ]
  },
  {
   "cell_type": "code",
   "execution_count": 56,
   "metadata": {},
   "outputs": [
    {
     "name": "stderr",
     "output_type": "stream",
     "text": [
      " 99%|█████████▉| 154/155 [01:19<00:00,  1.94it/s]\n"
     ]
    }
   ],
   "source": [
    "path_to_save = os.path.join('SAM_predictions_Point','valid')\n",
    "with tqdm.tqdm(total=len(valid_dataframe)) as pbar:\n",
    "    for indices, batch in batch_dataloader(valid_dataframe,2,prompt='Point',shuffle=False):\n",
    "        with torch.no_grad():\n",
    "            batch_op = sam_model(batch, multimask_output = False)\n",
    "            clear_vram()\n",
    "            unpack_and_save_op(indices, batch_op, valid_dataframe,path_to_save) \n",
    "        pbar.update(2)"
   ]
  },
  {
   "cell_type": "code",
   "execution_count": 57,
   "metadata": {},
   "outputs": [
    {
     "name": "stdout",
     "output_type": "stream",
     "text": [
      "Number of images in each folder\n",
      "Benign: 84\n",
      "Malignant: 44\n",
      "Normal: 26\n"
     ]
    }
   ],
   "source": [
    "#print count of images in each folder\n",
    "print('Number of images in each folder')\n",
    "print('Benign:',len(os.listdir(os.path.join('SAM_predictions_Point','valid','benign'))))\n",
    "print('Malignant:',len(os.listdir(os.path.join('SAM_predictions_Point','valid','malignant'))))\n",
    "print('Normal:',len(os.listdir(os.path.join('SAM_predictions_Point','valid','normal'))))"
   ]
  },
  {
   "cell_type": "code",
   "execution_count": 58,
   "metadata": {},
   "outputs": [
    {
     "name": "stderr",
     "output_type": "stream",
     "text": [
      "100%|█████████▉| 602/603 [05:08<00:00,  1.95it/s]\n"
     ]
    }
   ],
   "source": [
    "path_to_save = os.path.join('SAM_predictions_Point','train')\n",
    "with tqdm.tqdm(total=len(train_dataframe)) as pbar:\n",
    "    for indices, batch in batch_dataloader(train_dataframe,2,prompt='Point',shuffle=False):\n",
    "        with torch.no_grad():\n",
    "            batch_op = sam_model(batch, multimask_output = False)\n",
    "            clear_vram()\n",
    "            unpack_and_save_op(indices, batch_op, train_dataframe, path_to_save)\n",
    "        pbar.update(2)"
   ]
  },
  {
   "cell_type": "code",
   "execution_count": 59,
   "metadata": {},
   "outputs": [],
   "source": [
    "# clear vram \n",
    "clear_vram()"
   ]
  },
  {
   "cell_type": "markdown",
   "metadata": {},
   "source": [
    "## BBox+Point prompt"
   ]
  },
  {
   "cell_type": "code",
   "execution_count": 60,
   "metadata": {},
   "outputs": [
    {
     "name": "stderr",
     "output_type": "stream",
     "text": [
      " 99%|█████████▉| 154/155 [01:18<00:00,  1.95it/s]\n"
     ]
    }
   ],
   "source": [
    "path_to_save = os.path.join('SAM_predictions_BBoxPoint','valid')\n",
    "with tqdm.tqdm(total=len(valid_dataframe)) as pbar:\n",
    "    for indices, batch in batch_dataloader(valid_dataframe,2,prompt='BBox+Point',shuffle=False):\n",
    "        with torch.no_grad():\n",
    "            batch_op = sam_model(batch, multimask_output = False)\n",
    "            clear_vram()\n",
    "            unpack_and_save_op(indices, batch_op, valid_dataframe,path_to_save) \n",
    "        pbar.update(2)"
   ]
  },
  {
   "cell_type": "code",
   "execution_count": 61,
   "metadata": {},
   "outputs": [
    {
     "name": "stderr",
     "output_type": "stream",
     "text": [
      "100%|█████████▉| 602/603 [05:08<00:00,  1.95it/s]\n"
     ]
    }
   ],
   "source": [
    "path_to_save = os.path.join('SAM_predictions_BBoxPoint','train')\n",
    "with tqdm.tqdm(total=len(train_dataframe)) as pbar:\n",
    "    for indices, batch in batch_dataloader(train_dataframe,2,prompt='BBox+Point',shuffle=False):\n",
    "        with torch.no_grad():\n",
    "            batch_op = sam_model(batch, multimask_output = False)\n",
    "            clear_vram()\n",
    "            unpack_and_save_op(indices, batch_op, train_dataframe, path_to_save)\n",
    "        pbar.update(2)"
   ]
  },
  {
   "cell_type": "code",
   "execution_count": 62,
   "metadata": {},
   "outputs": [],
   "source": [
    "# clear vram \n",
    "clear_vram()"
   ]
  },
  {
   "cell_type": "code",
   "execution_count": null,
   "metadata": {},
   "outputs": [],
   "source": []
  },
  {
   "cell_type": "code",
   "execution_count": null,
   "metadata": {},
   "outputs": [],
   "source": []
  },
  {
   "cell_type": "code",
   "execution_count": null,
   "metadata": {},
   "outputs": [],
   "source": []
  },
  {
   "cell_type": "code",
   "execution_count": null,
   "metadata": {},
   "outputs": [],
   "source": []
  }
 ],
 "metadata": {
  "kernelspec": {
   "display_name": "python3nlp",
   "language": "python",
   "name": "python3"
  },
  "language_info": {
   "codemirror_mode": {
    "name": "ipython",
    "version": 3
   },
   "file_extension": ".py",
   "mimetype": "text/x-python",
   "name": "python",
   "nbconvert_exporter": "python",
   "pygments_lexer": "ipython3",
   "version": "3.12.2"
  }
 },
 "nbformat": 4,
 "nbformat_minor": 2
}
