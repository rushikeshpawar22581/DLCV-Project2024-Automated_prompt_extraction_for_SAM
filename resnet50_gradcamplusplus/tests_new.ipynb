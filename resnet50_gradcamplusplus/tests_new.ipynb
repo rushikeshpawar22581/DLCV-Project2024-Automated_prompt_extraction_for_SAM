{
 "cells": [
  {
   "cell_type": "code",
   "execution_count": 1,
   "metadata": {},
   "outputs": [],
   "source": [
    "import os\n",
    "import cv2\n",
    "import numpy as np\n",
    "import pandas as pd\n",
    "import matplotlib.pyplot as plt"
   ]
  },
  {
   "cell_type": "markdown",
   "metadata": {},
   "source": [
    "### IOU"
   ]
  },
  {
   "cell_type": "code",
   "execution_count": 2,
   "metadata": {},
   "outputs": [],
   "source": [
    "def calculate_iou(true_mask, predicted_mask):\n",
    "    # Convert true mask to gray scale\n",
    "    true_mask_gray = cv2.cvtColor(true_mask, cv2.COLOR_BGR2GRAY)\n",
    "    # Convert predicted mask to gray scale\n",
    "    predicted_mask_gray = cv2.cvtColor(predicted_mask, cv2.COLOR_BGR2GRAY)\n",
    "    \n",
    "    intersection = np.logical_and(true_mask_gray, predicted_mask_gray)\n",
    "    union = np.logical_or(true_mask_gray, predicted_mask_gray)\n",
    "\n",
    "    iou = np.sum(intersection) / np.sum(union)\n",
    "    return iou"
   ]
  },
  {
   "cell_type": "markdown",
   "metadata": {},
   "source": [
    "### Dice"
   ]
  },
  {
   "cell_type": "code",
   "execution_count": 3,
   "metadata": {},
   "outputs": [],
   "source": [
    "def calculate_dice_score(true_mask, predicted_mask):\n",
    "    # Ensure the masks are binary\n",
    "    true_mask_binary = true_mask > 0\n",
    "    predicted_mask_binary = predicted_mask > 0\n",
    "    \n",
    "    intersection = np.logical_and(true_mask_binary, predicted_mask_binary)\n",
    "\n",
    "    dice_score = 0\n",
    "\n",
    "    # Calculate Dice score only if both true and predicted masks are present\n",
    "    if np.sum(true_mask_binary) > 0 and np.sum(predicted_mask_binary) > 0:\n",
    "        # Calculate intersection area\n",
    "        intersection_area = np.sum(intersection)\n",
    "        # Calculate area of true mask\n",
    "        true_area = np.sum(true_mask_binary)\n",
    "        # Calculate area of predicted mask\n",
    "        predicted_area = np.sum(predicted_mask_binary)\n",
    "        \n",
    "        # Calculate Dice score\n",
    "        dice_score = 2 * intersection_area / (true_area + predicted_area)\n",
    "    else:\n",
    "        dice_score = 0\n",
    "\n",
    "    return dice_score"
   ]
  },
  {
   "cell_type": "markdown",
   "metadata": {},
   "source": [
    "### pixel wise accuracy"
   ]
  },
  {
   "cell_type": "code",
   "execution_count": 4,
   "metadata": {},
   "outputs": [],
   "source": [
    "#pixel wise accuracy\n",
    "\n",
    "def calculate_pixel_wise_accuracy(true_mask, predicted_mask):\n",
    "    \n",
    "    #convert true mask to gray scale\n",
    "    true_mask_gray=cv2.cvtColor(true_mask,cv2.COLOR_BGR2GRAY)\n",
    "    #convert predicted mask to gray scale\n",
    "    predicted_mask_gray=cv2.cvtColor(predicted_mask,cv2.COLOR_BGR2GRAY)\n",
    "    #calculate pixel wise accuracy\n",
    "    #number of pixels in true mask\n",
    "    true_positive=np.sum((true_mask_gray==255) & (predicted_mask_gray==255))\n",
    "    false_positive=np.sum((true_mask_gray==0) & (predicted_mask_gray==255))\n",
    "    false_negative=np.sum((true_mask_gray==255) & (predicted_mask_gray==0))\n",
    "    true_negative=np.sum((true_mask_gray==0) & (predicted_mask_gray==0))\n",
    "\n",
    "\n",
    "    #pixel wise accuracy\n",
    "    pixel_wise_accuracy=(true_positive+true_negative)/(true_positive+true_negative+false_positive+false_negative)\n",
    "\n",
    "    return pixel_wise_accuracy"
   ]
  },
  {
   "cell_type": "code",
   "execution_count": 5,
   "metadata": {},
   "outputs": [],
   "source": [
    "#dataframe to store the results datset wise\n",
    "results_df=pd.DataFrame(columns=['Dataset','IOU','Dice Score','Pixel Wise Accuracy'])\n",
    "\n",
    "true_df =pd.DataFrame(columns=['Dataset','IOU','Dice Score','Pixel Wise Accuracy'])"
   ]
  },
  {
   "cell_type": "markdown",
   "metadata": {},
   "source": [
    "### Name of folder to eval"
   ]
  },
  {
   "cell_type": "code",
   "execution_count": 6,
   "metadata": {},
   "outputs": [
    {
     "name": "stdout",
     "output_type": "stream",
     "text": [
      "['benign (185)_mask_prediction.png', 'benign (424)_mask_prediction.png', 'benign (422)_mask_prediction.png', 'benign (276)_mask_prediction.png', 'benign (423)_mask_prediction.png', 'benign (355)_mask_prediction.png', 'benign (367)_mask_prediction.png', 'benign (348)_mask_prediction.png', 'benign (315)_mask_prediction.png', 'benign (36)_mask_prediction.png', 'benign (433)_mask_prediction.png', 'benign (394)_mask_prediction.png', 'benign (10)_mask_prediction.png', 'benign (418)_mask_prediction.png', 'benign (199)_mask_prediction.png', 'benign (4)_mask_prediction.png', 'benign (347)_mask_prediction.png', 'benign (317)_mask_prediction.png', 'benign (186)_mask_prediction.png', 'benign (333)_mask_prediction.png', 'benign (173)_mask_prediction.png', 'benign (354)_mask_prediction.png', 'benign (247)_mask_prediction.png', 'benign (232)_mask_prediction.png', 'benign (392)_mask_prediction.png', 'benign (233)_mask_prediction.png', 'benign (179)_mask_prediction.png', 'benign (18)_mask_prediction.png', 'benign (48)_mask_prediction.png', 'benign (257)_mask_prediction.png', 'benign (51)_mask_prediction.png', 'benign (120)_mask_prediction.png', 'benign (364)_mask_prediction.png', 'benign (326)_mask_prediction.png', 'benign (297)_mask_prediction.png', 'benign (89)_mask_prediction.png', 'benign (300)_mask_prediction.png', 'benign (362)_mask_prediction.png', 'benign (260)_mask_prediction.png', 'benign (415)_mask_prediction.png', 'benign (214)_mask_prediction.png', 'benign (245)_mask_prediction.png', 'benign (277)_mask_prediction.png', 'benign (68)_mask_prediction.png', 'benign (111)_mask_prediction.png', 'benign (144)_mask_prediction.png', 'benign (307)_mask_prediction.png', 'benign (244)_mask_prediction.png', 'benign (107)_mask_prediction.png', 'benign (416)_mask_prediction.png', 'benign (357)_mask_prediction.png', 'benign (53)_mask_prediction.png', 'benign (55)_mask_prediction.png', 'benign (142)_mask_prediction.png', 'benign (38)_mask_prediction.png', 'benign (390)_mask_prediction.png', 'benign (366)_mask_prediction.png', 'benign (388)_mask_prediction.png', 'benign (373)_mask_prediction.png', 'benign (314)_mask_prediction.png', 'benign (9)_mask_prediction.png', 'benign (151)_mask_prediction.png', 'benign (189)_mask_prediction.png', 'benign (74)_mask_prediction.png', 'benign (237)_mask_prediction.png', 'benign (8)_mask_prediction.png', 'benign (285)_mask_prediction.png', 'benign (193)_mask_prediction.png', 'benign (363)_mask_prediction.png', 'benign (269)_mask_prediction.png', 'benign (11)_mask_prediction.png', 'benign (298)_mask_prediction.png', 'benign (149)_mask_prediction.png', 'benign (58)_mask_prediction.png', 'benign (396)_mask_prediction.png', 'benign (147)_mask_prediction.png', 'benign (256)_mask_prediction.png', 'benign (400)_mask_prediction.png', 'benign (131)_mask_prediction.png', 'benign (160)_mask_prediction.png', 'benign (378)_mask_prediction.png', 'benign (322)_mask_prediction.png', 'benign (95)_mask_prediction.png', 'benign (103)_mask_prediction.png', 'benign (380)_mask_prediction.png', 'benign (305)_mask_prediction.png', 'benign (116)_mask_prediction.png', 'benign (368)_mask_prediction.png', 'benign (401)_mask_prediction.png', 'benign (211)_mask_prediction.png', 'benign (321)_mask_prediction.png', 'benign (387)_mask_prediction.png', 'benign (84)_mask_prediction.png', 'benign (106)_mask_prediction.png', 'benign (334)_mask_prediction.png', 'benign (154)_mask_prediction.png', 'benign (27)_mask_prediction.png', 'benign (76)_mask_prediction.png', 'benign (42)_mask_prediction.png', 'benign (128)_mask_prediction.png', 'benign (93)_mask_prediction.png', 'benign (62)_mask_prediction.png', 'benign (432)_mask_prediction.png', 'benign (228)_mask_prediction.png', 'benign (35)_mask_prediction.png', 'benign (33)_mask_prediction.png', 'benign (372)_mask_prediction.png', 'benign (325)_mask_prediction.png', 'benign (195)_mask_2_mask_prediction.png', 'benign (99)_mask_prediction.png', 'benign (229)_mask_prediction.png', 'benign (210)_mask_prediction.png', 'benign (215)_mask_prediction.png', 'benign (70)_mask_prediction.png', 'benign (223)_mask_prediction.png', 'benign (145)_mask_prediction.png', 'benign (304)_mask_prediction.png', 'benign (88)_mask_prediction.png', 'benign (254)_mask_prediction.png', 'benign (250)_mask_prediction.png', 'benign (272)_mask_prediction.png', 'benign (262)_mask_prediction.png', 'benign (153)_mask_prediction.png', 'benign (407)_mask_prediction.png', 'benign (130)_mask_prediction.png', 'benign (219)_mask_prediction.png', 'benign (155)_mask_prediction.png', 'benign (200)_mask_prediction.png', 'benign (382)_mask_prediction.png', 'benign (253)_mask_prediction.png', 'benign (239)_mask_prediction.png', 'benign (235)_mask_prediction.png', 'benign (66)_mask_prediction.png', 'benign (425)_mask_prediction.png', 'benign (21)_mask_prediction.png', 'benign (13)_mask_prediction.png', 'benign (302)_mask_prediction.png', 'benign (52)_mask_prediction.png', 'benign (437)_mask_prediction.png', 'benign (26)_mask_prediction.png', 'benign (165)_mask_prediction.png', 'benign (213)_mask_prediction.png', 'benign (255)_mask_prediction.png', 'benign (353)_mask_prediction.png', 'benign (349)_mask_prediction.png', 'benign (339)_mask_prediction.png', 'benign (435)_mask_prediction.png', 'benign (293)_mask_prediction.png', 'benign (167)_mask_prediction.png', 'benign (174)_mask_prediction.png', 'benign (94)_mask_prediction.png', 'benign (402)_mask_prediction.png', 'benign (19)_mask_prediction.png', 'benign (345)_mask_prediction.png', 'benign (330)_mask_prediction.png', 'benign (78)_mask_prediction.png', 'benign (72)_mask_prediction.png', 'benign (65)_mask_prediction.png', 'benign (71)_mask_prediction.png', 'benign (178)_mask_prediction.png', 'benign (225)_mask_prediction.png', 'benign (57)_mask_prediction.png', 'benign (295)_mask_prediction.png', 'benign (195)_mask_prediction.png', 'benign (220)_mask_prediction.png', 'benign (30)_mask_prediction.png', 'benign (286)_mask_prediction.png', 'benign (63)_mask_prediction.png', 'benign (45)_mask_prediction.png', 'benign (81)_mask_prediction.png', 'benign (386)_mask_prediction.png', 'benign (412)_mask_prediction.png', 'benign (176)_mask_prediction.png', 'benign (110)_mask_prediction.png', 'benign (299)_mask_prediction.png', 'benign (29)_mask_prediction.png', 'benign (417)_mask_prediction.png', 'benign (28)_mask_prediction.png', 'benign (201)_mask_prediction.png', 'benign (202)_mask_prediction.png', 'benign (22)_mask_prediction.png', 'benign (294)_mask_prediction.png', 'benign (157)_mask_prediction.png', 'benign (123)_mask_prediction.png', 'benign (41)_mask_prediction.png', 'benign (226)_mask_prediction.png', 'benign (359)_mask_prediction.png', 'benign (194)_mask_prediction.png', 'benign (102)_mask_prediction.png', 'benign (91)_mask_prediction.png', 'benign (249)_mask_prediction.png', 'benign (224)_mask_prediction.png', 'benign (85)_mask_prediction.png', 'benign (242)_mask_prediction.png', 'benign (421)_mask_prediction.png', 'benign (266)_mask_prediction.png', 'benign (267)_mask_prediction.png', 'benign (264)_mask_prediction.png', 'benign (101)_mask_prediction.png', 'benign (234)_mask_prediction.png', 'benign (218)_mask_prediction.png', 'benign (311)_mask_prediction.png', 'benign (163)_mask_prediction.png', 'benign (104)_mask_prediction.png', 'benign (217)_mask_prediction.png', 'benign (430)_mask_prediction.png', 'benign (50)_mask_prediction.png', 'benign (208)_mask_prediction.png', 'benign (429)_mask_prediction.png', 'benign (118)_mask_prediction.png', 'benign (15)_mask_prediction.png', 'benign (124)_mask_prediction.png', 'benign (261)_mask_prediction.png', 'benign (90)_mask_prediction.png', 'benign (243)_mask_prediction.png', 'benign (152)_mask_prediction.png', 'benign (67)_mask_prediction.png', 'benign (420)_mask_prediction.png', 'benign (274)_mask_prediction.png', 'benign (166)_mask_prediction.png', 'benign (428)_mask_prediction.png', 'benign (184)_mask_prediction.png', 'benign (426)_mask_prediction.png', 'benign (251)_mask_prediction.png', 'benign (376)_mask_prediction.png', 'benign (303)_mask_prediction.png', 'benign (329)_mask_prediction.png', 'benign (427)_mask_prediction.png', 'benign (141)_mask_prediction.png', 'benign (431)_mask_prediction.png', 'benign (198)_mask_prediction.png', 'benign (419)_mask_prediction.png', 'benign (6)_mask_prediction.png', 'benign (352)_mask_prediction.png', 'benign (34)_mask_prediction.png', 'benign (263)_mask_prediction.png', 'benign (281)_mask_prediction.png', 'benign (406)_mask_prediction.png', 'benign (150)_mask_prediction.png', 'benign (49)_mask_prediction.png', 'benign (87)_mask_prediction.png', 'benign (222)_mask_prediction.png', 'benign (284)_mask_prediction.png', 'benign (405)_mask_prediction.png', 'benign (135)_mask_prediction.png', 'benign (117)_mask_prediction.png', 'benign (375)_mask_prediction.png', 'benign (384)_mask_prediction.png', 'benign (203)_mask_prediction.png', 'benign (236)_mask_prediction.png', 'benign (209)_mask_prediction.png', 'benign (196)_mask_prediction.png', 'benign (313)_mask_prediction.png', 'benign (83)_mask_prediction.png', 'benign (241)_mask_prediction.png', 'benign (133)_mask_prediction.png', 'benign (409)_mask_prediction.png', 'benign (162)_mask_prediction.png', 'benign (1)_mask_prediction.png', 'benign (408)_mask_prediction.png', 'benign (324)_mask_prediction.png', 'benign (268)_mask_prediction.png', 'benign (308)_mask_prediction.png', 'benign (182)_mask_prediction.png', 'benign (139)_mask_prediction.png', 'benign (79)_mask_prediction.png', 'benign (113)_mask_prediction.png', 'benign (181)_mask_prediction.png', 'benign (171)_mask_prediction.png', 'benign (301)_mask_prediction.png', 'benign (280)_mask_prediction.png', 'benign (410)_mask_prediction.png', 'benign (246)_mask_prediction.png', 'benign (240)_mask_prediction.png', 'benign (61)_mask_prediction.png', 'benign (358)_mask_prediction.png', 'benign (140)_mask_prediction.png', 'benign (137)_mask_prediction.png', 'benign (161)_mask_prediction.png', 'benign (383)_mask_prediction.png', 'benign (385)_mask_prediction.png', 'benign (350)_mask_prediction.png', 'benign (59)_mask_prediction.png', 'benign (279)_mask_prediction.png', 'benign (98)_mask_prediction.png', 'benign (56)_mask_prediction.png', 'benign (2)_mask_prediction.png', 'benign (216)_mask_prediction.png', 'benign (273)_mask_prediction.png', 'benign (23)_mask_prediction.png', 'benign (316)_mask_prediction.png', 'benign (391)_mask_prediction.png', 'benign (92)_mask_prediction.png', 'benign (97)_mask_prediction.png', 'benign (207)_mask_prediction.png', 'benign (188)_mask_prediction.png', 'benign (335)_mask_prediction.png', 'benign (259)_mask_prediction.png', 'benign (291)_mask_prediction.png', 'benign (411)_mask_prediction.png', 'benign (46)_mask_prediction.png', 'benign (319)_mask_prediction.png', 'benign (328)_mask_prediction.png', 'benign (82)_mask_prediction.png', 'benign (14)_mask_prediction.png', 'benign (258)_mask_prediction.png', 'benign (377)_mask_prediction.png', 'benign (146)_mask_prediction.png', 'benign (112)_mask_prediction.png', 'benign (371)_mask_prediction.png', 'benign (393)_mask_prediction.png', 'benign (296)_mask_prediction.png', 'benign (252)_mask_prediction.png', 'benign (122)_mask_prediction.png', 'benign (73)_mask_prediction.png', 'benign (381)_mask_prediction.png', 'benign (230)_mask_prediction.png', 'benign (3)_mask_prediction.png', 'benign (205)_mask_prediction.png', 'benign (265)_mask_prediction.png', 'benign (138)_mask_prediction.png', 'benign (109)_mask_prediction.png', 'benign (212)_mask_prediction.png', 'benign (20)_mask_prediction.png', 'benign (343)_mask_prediction.png', 'benign (310)_mask_prediction.png', 'benign (132)_mask_prediction.png', 'benign (192)_mask_prediction.png', 'benign (389)_mask_prediction.png', 'benign (434)_mask_prediction.png', 'benign (24)_mask_prediction.png', 'benign (180)_mask_prediction.png', 'benign (283)_mask_prediction.png', 'benign (64)_mask_prediction.png', 'benign (77)_mask_prediction.png', 'benign (136)_mask_prediction.png', 'benign (270)_mask_prediction.png', 'benign (121)_mask_prediction.png', 'benign (114)_mask_prediction.png', 'benign (119)_mask_prediction.png', 'benign (227)_mask_prediction.png', 'benign (340)_mask_prediction.png', 'benign (344)_mask_prediction.png', 'benign (191)_mask_prediction.png', 'benign (183)_mask_prediction.png', 'benign (341)_mask_prediction.png', 'benign (248)_mask_prediction.png', 'benign (75)_mask_prediction.png', 'benign (312)_mask_prediction.png', 'benign (403)_mask_prediction.png', 'benign (32)_mask_prediction.png', 'benign (37)_mask_prediction.png', 'benign (342)_mask_prediction.png', 'benign (115)_mask_prediction.png']\n"
     ]
    }
   ],
   "source": [
    "folder_name='SAM_predictions_BBox'\n",
    "\n",
    "#delete benign (195)_mask_2_mask.png image from train/benign folder\n",
    "\n",
    "benign_predictions_dir=os.path.join('..', folder_name, 'train' ,'benign')\n",
    "list_of_benign_predictions_dir = os.listdir(benign_predictions_dir)\n",
    "print(list_of_benign_predictions_dir)\n",
    "#delete benign (195)_mask_2_mask.png image from valid/benign folder\n",
    "if 'benign (195)_mask_2_mask_prediction.png' in list_of_benign_predictions_dir:\n",
    "    os.remove(os.path.join(benign_predictions_dir,'benign (195)_mask_2_mask_prediction.png'))"
   ]
  },
  {
   "cell_type": "code",
   "execution_count": 7,
   "metadata": {},
   "outputs": [],
   "source": [
    "def calculate_metrics(benign_gt_dir, benign_predictions_dir,csv_file_name,save_csv=True):\n",
    "    list_of_benign_predictions_dir = os.listdir(benign_predictions_dir)\n",
    "\n",
    "    df = pd.DataFrame(columns=['File', 'IOU', 'Dice Score', 'Pixel Wise Accuracy'])\n",
    "\n",
    "    for files in list_of_benign_predictions_dir:\n",
    "        # read true mask\n",
    "        #print(files)\n",
    "        true_mask = cv2.imread(os.path.join(benign_gt_dir, files.replace('_mask_prediction.png', '_mask.png')))\n",
    "        # read predicted mask\n",
    "        predicted_mask = cv2.imread(os.path.join(benign_predictions_dir, files))\n",
    "\n",
    "        # calculate iou\n",
    "        iou = calculate_iou(true_mask, predicted_mask)\n",
    "        # calculate dice score\n",
    "        dice_score = calculate_dice_score(true_mask, predicted_mask)\n",
    "        # calculate pixel wise accuracy\n",
    "        pixel_wise_accuracy = calculate_pixel_wise_accuracy(true_mask, predicted_mask)\n",
    "\n",
    "        df.loc[len(df)] = [files, iou, dice_score, pixel_wise_accuracy]\n",
    "\n",
    "\n",
    "    # save the dataframe to a csv file\n",
    "    if save_csv:\n",
    "        df.to_csv(csv_file_name, index=False)\n",
    "    \n",
    "        print('Metrics saved to ',csv_file_name)\n",
    "    average_dice_score=np.mean(df['Dice Score'])\n",
    "    average_iou=np.mean(df['IOU'])\n",
    "    average_pixel_wise_accuracy=np.mean(df['Pixel Wise Accuracy'])\n",
    "    \n",
    "    return average_dice_score,average_iou,average_pixel_wise_accuracy"
   ]
  },
  {
   "cell_type": "code",
   "execution_count": 8,
   "metadata": {},
   "outputs": [],
   "source": [
    "def calculate_actual_validation_metrics(folder_name,df, bsam_df):\n",
    "    # calculate metrics for validation dataset\n",
    "    benign_gt_dir=os.path.join('..','..','Dataset_BUSI_with_GT','benign')\n",
    "    benign_predictions_dir = os.path.join('..', folder_name, 'valid', 'benign')\n",
    "    bsam_benign_predictions_dir = os.path.join('..','..', 'BreastSAM impl',folder_name, 'benign')\n",
    "    csv_file_name = os.path.join('..',folder_name,'valid','benign_metrics.csv')\n",
    "    average_dice_score,average_iou,average_pixel_wise_accuracy=calculate_metrics(benign_gt_dir, benign_predictions_dir,csv_file_name,save_csv=True)\n",
    "    df.loc[len(df)] = [csv_file_name,average_iou,average_dice_score,average_pixel_wise_accuracy]\n",
    "    average_dice_score,average_iou,average_pixel_wise_accuracy=calculate_metrics(benign_gt_dir, bsam_benign_predictions_dir,bsam_df,save_csv=False)\n",
    "    bsam_df.loc[len(bsam_df)] = [csv_file_name,average_iou,average_dice_score,average_pixel_wise_accuracy]\n",
    "    \n",
    "    benign_gt_dir=os.path.join('..','..','Dataset_BUSI_with_GT','benign')\n",
    "    benign_predictions_dir = os.path.join('..', folder_name, 'train', 'benign')\n",
    "    bsam_benign_predictions_dir = os.path.join('..','..', 'BreastSAM impl',folder_name, 'benign')\n",
    "    csv_file_name = os.path.join('..',folder_name,'train','benign_metrics.csv')\n",
    "    average_dice_score,average_iou,average_pixel_wise_accuracy=calculate_metrics(benign_gt_dir, benign_predictions_dir,csv_file_name,save_csv=True)\n",
    "    df.loc[len(df)] = [csv_file_name,average_iou,average_dice_score,average_pixel_wise_accuracy]\n",
    "    average_dice_score,average_iou,average_pixel_wise_accuracy=calculate_metrics(benign_gt_dir, bsam_benign_predictions_dir,bsam_df,save_csv=False)\n",
    "    bsam_df.loc[len(bsam_df)] = [csv_file_name,average_iou,average_dice_score,average_pixel_wise_accuracy]\n",
    "    \n",
    "    malignant_gt_dir=os.path.join('..','..','Dataset_BUSI_with_GT','malignant')\n",
    "    malignant_predictions_dir = os.path.join('..', folder_name, 'valid', 'malignant')\n",
    "    bsam_malignant_predictions_dir = os.path.join('..','..', 'BreastSAM impl',folder_name, 'malignant')\n",
    "    csv_file_name = os.path.join('..',folder_name,'valid','malignant_metrics.csv')\n",
    "    average_dice_score,average_iou,average_pixel_wise_accuracy=calculate_metrics(malignant_gt_dir, malignant_predictions_dir,csv_file_name,save_csv=True)\n",
    "    df.loc[len(df)] = [csv_file_name,average_iou,average_dice_score,average_pixel_wise_accuracy]\n",
    "    average_dice_score,average_iou,average_pixel_wise_accuracy=calculate_metrics(malignant_gt_dir, bsam_malignant_predictions_dir,bsam_df,save_csv=False)\n",
    "    bsam_df.loc[len(bsam_df)] = [csv_file_name,average_iou,average_dice_score,average_pixel_wise_accuracy]\n",
    "    \n",
    "    malignant_gt_dir=os.path.join('..','..','Dataset_BUSI_with_GT','malignant')\n",
    "    malignant_predictions_dir = os.path.join('..', folder_name, 'train', 'malignant')\n",
    "    bsam_malignant_predictions_dir = os.path.join('..','..', 'BreastSAM impl',folder_name, 'malignant')\n",
    "    csv_file_name = os.path.join('..',folder_name,'train','malignant_metrics.csv')\n",
    "    average_dice_score,average_iou,average_pixel_wise_accuracy=calculate_metrics(malignant_gt_dir, malignant_predictions_dir,csv_file_name,save_csv=True)\n",
    "    df.loc[len(df)] = [csv_file_name,average_iou,average_dice_score,average_pixel_wise_accuracy]\n",
    "    average_dice_score,average_iou,average_pixel_wise_accuracy=calculate_metrics(malignant_gt_dir, bsam_malignant_predictions_dir,bsam_df,save_csv=False)\n",
    "    bsam_df.loc[len(bsam_df)] = [csv_file_name,average_iou,average_dice_score,average_pixel_wise_accuracy]\n",
    "    \n",
    "    return df,bsam_df"
   ]
  },
  {
   "cell_type": "markdown",
   "metadata": {},
   "source": [
    "## only box prompt"
   ]
  },
  {
   "cell_type": "code",
   "execution_count": 9,
   "metadata": {},
   "outputs": [
    {
     "data": {
      "text/html": [
       "<div>\n",
       "<style scoped>\n",
       "    .dataframe tbody tr th:only-of-type {\n",
       "        vertical-align: middle;\n",
       "    }\n",
       "\n",
       "    .dataframe tbody tr th {\n",
       "        vertical-align: top;\n",
       "    }\n",
       "\n",
       "    .dataframe thead th {\n",
       "        text-align: right;\n",
       "    }\n",
       "</style>\n",
       "<table border=\"1\" class=\"dataframe\">\n",
       "  <thead>\n",
       "    <tr style=\"text-align: right;\">\n",
       "      <th></th>\n",
       "      <th>Dataset</th>\n",
       "      <th>IOU</th>\n",
       "      <th>Dice Score</th>\n",
       "      <th>Pixel Wise Accuracy</th>\n",
       "    </tr>\n",
       "  </thead>\n",
       "  <tbody>\n",
       "  </tbody>\n",
       "</table>\n",
       "</div>"
      ],
      "text/plain": [
       "Empty DataFrame\n",
       "Columns: [Dataset, IOU, Dice Score, Pixel Wise Accuracy]\n",
       "Index: []"
      ]
     },
     "execution_count": 9,
     "metadata": {},
     "output_type": "execute_result"
    }
   ],
   "source": [
    "results_df"
   ]
  },
  {
   "cell_type": "code",
   "execution_count": 10,
   "metadata": {},
   "outputs": [
    {
     "name": "stdout",
     "output_type": "stream",
     "text": [
      "Metrics saved to  ../SAM_predictions_BBox/valid/benign_metrics.csv\n",
      "Metrics saved to  ../SAM_predictions_BBox/train/benign_metrics.csv\n",
      "Metrics saved to  ../SAM_predictions_BBox/valid/malignant_metrics.csv\n",
      "Metrics saved to  ../SAM_predictions_BBox/train/malignant_metrics.csv\n"
     ]
    }
   ],
   "source": [
    "results_df,true_df=calculate_actual_validation_metrics(folder_name,results_df,true_df)"
   ]
  },
  {
   "cell_type": "code",
   "execution_count": 11,
   "metadata": {},
   "outputs": [
    {
     "data": {
      "text/html": [
       "<div>\n",
       "<style scoped>\n",
       "    .dataframe tbody tr th:only-of-type {\n",
       "        vertical-align: middle;\n",
       "    }\n",
       "\n",
       "    .dataframe tbody tr th {\n",
       "        vertical-align: top;\n",
       "    }\n",
       "\n",
       "    .dataframe thead th {\n",
       "        text-align: right;\n",
       "    }\n",
       "</style>\n",
       "<table border=\"1\" class=\"dataframe\">\n",
       "  <thead>\n",
       "    <tr style=\"text-align: right;\">\n",
       "      <th></th>\n",
       "      <th>Dataset</th>\n",
       "      <th>IOU</th>\n",
       "      <th>Dice Score</th>\n",
       "      <th>Pixel Wise Accuracy</th>\n",
       "    </tr>\n",
       "  </thead>\n",
       "  <tbody>\n",
       "    <tr>\n",
       "      <th>0</th>\n",
       "      <td>../SAM_predictions_BBox/valid/benign_metrics.csv</td>\n",
       "      <td>0.194016</td>\n",
       "      <td>0.256431</td>\n",
       "      <td>0.921793</td>\n",
       "    </tr>\n",
       "    <tr>\n",
       "      <th>1</th>\n",
       "      <td>../SAM_predictions_BBox/train/benign_metrics.csv</td>\n",
       "      <td>0.174441</td>\n",
       "      <td>0.229275</td>\n",
       "      <td>0.908476</td>\n",
       "    </tr>\n",
       "    <tr>\n",
       "      <th>2</th>\n",
       "      <td>../SAM_predictions_BBox/valid/malignant_metric...</td>\n",
       "      <td>0.215293</td>\n",
       "      <td>0.307382</td>\n",
       "      <td>0.858512</td>\n",
       "    </tr>\n",
       "    <tr>\n",
       "      <th>3</th>\n",
       "      <td>../SAM_predictions_BBox/train/malignant_metric...</td>\n",
       "      <td>0.268226</td>\n",
       "      <td>0.370997</td>\n",
       "      <td>0.870852</td>\n",
       "    </tr>\n",
       "  </tbody>\n",
       "</table>\n",
       "</div>"
      ],
      "text/plain": [
       "                                             Dataset       IOU  Dice Score  \\\n",
       "0   ../SAM_predictions_BBox/valid/benign_metrics.csv  0.194016    0.256431   \n",
       "1   ../SAM_predictions_BBox/train/benign_metrics.csv  0.174441    0.229275   \n",
       "2  ../SAM_predictions_BBox/valid/malignant_metric...  0.215293    0.307382   \n",
       "3  ../SAM_predictions_BBox/train/malignant_metric...  0.268226    0.370997   \n",
       "\n",
       "   Pixel Wise Accuracy  \n",
       "0             0.921793  \n",
       "1             0.908476  \n",
       "2             0.858512  \n",
       "3             0.870852  "
      ]
     },
     "execution_count": 11,
     "metadata": {},
     "output_type": "execute_result"
    }
   ],
   "source": [
    "results_df"
   ]
  },
  {
   "cell_type": "code",
   "execution_count": 12,
   "metadata": {},
   "outputs": [
    {
     "data": {
      "text/html": [
       "<div>\n",
       "<style scoped>\n",
       "    .dataframe tbody tr th:only-of-type {\n",
       "        vertical-align: middle;\n",
       "    }\n",
       "\n",
       "    .dataframe tbody tr th {\n",
       "        vertical-align: top;\n",
       "    }\n",
       "\n",
       "    .dataframe thead th {\n",
       "        text-align: right;\n",
       "    }\n",
       "</style>\n",
       "<table border=\"1\" class=\"dataframe\">\n",
       "  <thead>\n",
       "    <tr style=\"text-align: right;\">\n",
       "      <th></th>\n",
       "      <th>Dataset</th>\n",
       "      <th>IOU</th>\n",
       "      <th>Dice Score</th>\n",
       "      <th>Pixel Wise Accuracy</th>\n",
       "    </tr>\n",
       "  </thead>\n",
       "  <tbody>\n",
       "    <tr>\n",
       "      <th>0</th>\n",
       "      <td>../SAM_predictions_BBox/valid/benign_metrics.csv</td>\n",
       "      <td>0.775150</td>\n",
       "      <td>0.863927</td>\n",
       "      <td>0.983693</td>\n",
       "    </tr>\n",
       "    <tr>\n",
       "      <th>1</th>\n",
       "      <td>../SAM_predictions_BBox/train/benign_metrics.csv</td>\n",
       "      <td>0.775150</td>\n",
       "      <td>0.863927</td>\n",
       "      <td>0.983693</td>\n",
       "    </tr>\n",
       "    <tr>\n",
       "      <th>2</th>\n",
       "      <td>../SAM_predictions_BBox/valid/malignant_metric...</td>\n",
       "      <td>0.708367</td>\n",
       "      <td>0.823140</td>\n",
       "      <td>0.954823</td>\n",
       "    </tr>\n",
       "    <tr>\n",
       "      <th>3</th>\n",
       "      <td>../SAM_predictions_BBox/train/malignant_metric...</td>\n",
       "      <td>0.708367</td>\n",
       "      <td>0.823140</td>\n",
       "      <td>0.954823</td>\n",
       "    </tr>\n",
       "  </tbody>\n",
       "</table>\n",
       "</div>"
      ],
      "text/plain": [
       "                                             Dataset       IOU  Dice Score  \\\n",
       "0   ../SAM_predictions_BBox/valid/benign_metrics.csv  0.775150    0.863927   \n",
       "1   ../SAM_predictions_BBox/train/benign_metrics.csv  0.775150    0.863927   \n",
       "2  ../SAM_predictions_BBox/valid/malignant_metric...  0.708367    0.823140   \n",
       "3  ../SAM_predictions_BBox/train/malignant_metric...  0.708367    0.823140   \n",
       "\n",
       "   Pixel Wise Accuracy  \n",
       "0             0.983693  \n",
       "1             0.983693  \n",
       "2             0.954823  \n",
       "3             0.954823  "
      ]
     },
     "execution_count": 12,
     "metadata": {},
     "output_type": "execute_result"
    }
   ],
   "source": [
    "true_df"
   ]
  },
  {
   "cell_type": "markdown",
   "metadata": {},
   "source": [
    "## with box and point prompt"
   ]
  },
  {
   "cell_type": "code",
   "execution_count": 13,
   "metadata": {},
   "outputs": [
    {
     "name": "stdout",
     "output_type": "stream",
     "text": [
      "['benign (185)_mask_prediction.png', 'benign (424)_mask_prediction.png', 'benign (422)_mask_prediction.png', 'benign (276)_mask_prediction.png', 'benign (423)_mask_prediction.png', 'benign (355)_mask_prediction.png', 'benign (367)_mask_prediction.png', 'benign (348)_mask_prediction.png', 'benign (315)_mask_prediction.png', 'benign (36)_mask_prediction.png', 'benign (433)_mask_prediction.png', 'benign (394)_mask_prediction.png', 'benign (10)_mask_prediction.png', 'benign (418)_mask_prediction.png', 'benign (199)_mask_prediction.png', 'benign (4)_mask_prediction.png', 'benign (347)_mask_prediction.png', 'benign (317)_mask_prediction.png', 'benign (186)_mask_prediction.png', 'benign (333)_mask_prediction.png', 'benign (173)_mask_prediction.png', 'benign (354)_mask_prediction.png', 'benign (247)_mask_prediction.png', 'benign (232)_mask_prediction.png', 'benign (392)_mask_prediction.png', 'benign (233)_mask_prediction.png', 'benign (179)_mask_prediction.png', 'benign (18)_mask_prediction.png', 'benign (48)_mask_prediction.png', 'benign (257)_mask_prediction.png', 'benign (51)_mask_prediction.png', 'benign (120)_mask_prediction.png', 'benign (364)_mask_prediction.png', 'benign (326)_mask_prediction.png', 'benign (297)_mask_prediction.png', 'benign (89)_mask_prediction.png', 'benign (300)_mask_prediction.png', 'benign (362)_mask_prediction.png', 'benign (260)_mask_prediction.png', 'benign (415)_mask_prediction.png', 'benign (214)_mask_prediction.png', 'benign (245)_mask_prediction.png', 'benign (277)_mask_prediction.png', 'benign (68)_mask_prediction.png', 'benign (111)_mask_prediction.png', 'benign (144)_mask_prediction.png', 'benign (307)_mask_prediction.png', 'benign (244)_mask_prediction.png', 'benign (107)_mask_prediction.png', 'benign (416)_mask_prediction.png', 'benign (357)_mask_prediction.png', 'benign (53)_mask_prediction.png', 'benign (55)_mask_prediction.png', 'benign (142)_mask_prediction.png', 'benign (38)_mask_prediction.png', 'benign (390)_mask_prediction.png', 'benign (366)_mask_prediction.png', 'benign (388)_mask_prediction.png', 'benign (373)_mask_prediction.png', 'benign (314)_mask_prediction.png', 'benign (9)_mask_prediction.png', 'benign (151)_mask_prediction.png', 'benign (189)_mask_prediction.png', 'benign (74)_mask_prediction.png', 'benign (237)_mask_prediction.png', 'benign (8)_mask_prediction.png', 'benign (285)_mask_prediction.png', 'benign (193)_mask_prediction.png', 'benign (363)_mask_prediction.png', 'benign (269)_mask_prediction.png', 'benign (11)_mask_prediction.png', 'benign (298)_mask_prediction.png', 'benign (149)_mask_prediction.png', 'benign (58)_mask_prediction.png', 'benign (396)_mask_prediction.png', 'benign (147)_mask_prediction.png', 'benign (256)_mask_prediction.png', 'benign (400)_mask_prediction.png', 'benign (131)_mask_prediction.png', 'benign (160)_mask_prediction.png', 'benign (378)_mask_prediction.png', 'benign (322)_mask_prediction.png', 'benign (95)_mask_prediction.png', 'benign (103)_mask_prediction.png', 'benign (380)_mask_prediction.png', 'benign (305)_mask_prediction.png', 'benign (116)_mask_prediction.png', 'benign (368)_mask_prediction.png', 'benign (401)_mask_prediction.png', 'benign (211)_mask_prediction.png', 'benign (321)_mask_prediction.png', 'benign (387)_mask_prediction.png', 'benign (84)_mask_prediction.png', 'benign (106)_mask_prediction.png', 'benign (334)_mask_prediction.png', 'benign (154)_mask_prediction.png', 'benign (27)_mask_prediction.png', 'benign (76)_mask_prediction.png', 'benign (42)_mask_prediction.png', 'benign (128)_mask_prediction.png', 'benign (93)_mask_prediction.png', 'benign (62)_mask_prediction.png', 'benign (432)_mask_prediction.png', 'benign (228)_mask_prediction.png', 'benign (35)_mask_prediction.png', 'benign (33)_mask_prediction.png', 'benign (372)_mask_prediction.png', 'benign (325)_mask_prediction.png', 'benign (195)_mask_2_mask_prediction.png', 'benign (99)_mask_prediction.png', 'benign (229)_mask_prediction.png', 'benign (210)_mask_prediction.png', 'benign (215)_mask_prediction.png', 'benign (70)_mask_prediction.png', 'benign (223)_mask_prediction.png', 'benign (145)_mask_prediction.png', 'benign (304)_mask_prediction.png', 'benign (88)_mask_prediction.png', 'benign (254)_mask_prediction.png', 'benign (250)_mask_prediction.png', 'benign (272)_mask_prediction.png', 'benign (262)_mask_prediction.png', 'benign (153)_mask_prediction.png', 'benign (407)_mask_prediction.png', 'benign (130)_mask_prediction.png', 'benign (219)_mask_prediction.png', 'benign (155)_mask_prediction.png', 'benign (200)_mask_prediction.png', 'benign (382)_mask_prediction.png', 'benign (253)_mask_prediction.png', 'benign (239)_mask_prediction.png', 'benign (235)_mask_prediction.png', 'benign (66)_mask_prediction.png', 'benign (425)_mask_prediction.png', 'benign (21)_mask_prediction.png', 'benign (13)_mask_prediction.png', 'benign (302)_mask_prediction.png', 'benign (52)_mask_prediction.png', 'benign (437)_mask_prediction.png', 'benign (26)_mask_prediction.png', 'benign (165)_mask_prediction.png', 'benign (213)_mask_prediction.png', 'benign (255)_mask_prediction.png', 'benign (353)_mask_prediction.png', 'benign (349)_mask_prediction.png', 'benign (339)_mask_prediction.png', 'benign (435)_mask_prediction.png', 'benign (293)_mask_prediction.png', 'benign (167)_mask_prediction.png', 'benign (174)_mask_prediction.png', 'benign (94)_mask_prediction.png', 'benign (402)_mask_prediction.png', 'benign (19)_mask_prediction.png', 'benign (345)_mask_prediction.png', 'benign (330)_mask_prediction.png', 'benign (78)_mask_prediction.png', 'benign (72)_mask_prediction.png', 'benign (65)_mask_prediction.png', 'benign (71)_mask_prediction.png', 'benign (178)_mask_prediction.png', 'benign (225)_mask_prediction.png', 'benign (57)_mask_prediction.png', 'benign (295)_mask_prediction.png', 'benign (195)_mask_prediction.png', 'benign (220)_mask_prediction.png', 'benign (30)_mask_prediction.png', 'benign (286)_mask_prediction.png', 'benign (63)_mask_prediction.png', 'benign (45)_mask_prediction.png', 'benign (81)_mask_prediction.png', 'benign (386)_mask_prediction.png', 'benign (412)_mask_prediction.png', 'benign (176)_mask_prediction.png', 'benign (110)_mask_prediction.png', 'benign (299)_mask_prediction.png', 'benign (29)_mask_prediction.png', 'benign (417)_mask_prediction.png', 'benign (28)_mask_prediction.png', 'benign (201)_mask_prediction.png', 'benign (202)_mask_prediction.png', 'benign (22)_mask_prediction.png', 'benign (294)_mask_prediction.png', 'benign (157)_mask_prediction.png', 'benign (123)_mask_prediction.png', 'benign (41)_mask_prediction.png', 'benign (226)_mask_prediction.png', 'benign (359)_mask_prediction.png', 'benign (194)_mask_prediction.png', 'benign (102)_mask_prediction.png', 'benign (91)_mask_prediction.png', 'benign (249)_mask_prediction.png', 'benign (224)_mask_prediction.png', 'benign (85)_mask_prediction.png', 'benign (242)_mask_prediction.png', 'benign (421)_mask_prediction.png', 'benign (266)_mask_prediction.png', 'benign (267)_mask_prediction.png', 'benign (264)_mask_prediction.png', 'benign (101)_mask_prediction.png', 'benign (234)_mask_prediction.png', 'benign (218)_mask_prediction.png', 'benign (311)_mask_prediction.png', 'benign (163)_mask_prediction.png', 'benign (104)_mask_prediction.png', 'benign (217)_mask_prediction.png', 'benign (430)_mask_prediction.png', 'benign (50)_mask_prediction.png', 'benign (208)_mask_prediction.png', 'benign (429)_mask_prediction.png', 'benign (118)_mask_prediction.png', 'benign (15)_mask_prediction.png', 'benign (124)_mask_prediction.png', 'benign (261)_mask_prediction.png', 'benign (90)_mask_prediction.png', 'benign (243)_mask_prediction.png', 'benign (152)_mask_prediction.png', 'benign (67)_mask_prediction.png', 'benign (420)_mask_prediction.png', 'benign (274)_mask_prediction.png', 'benign (166)_mask_prediction.png', 'benign (428)_mask_prediction.png', 'benign (184)_mask_prediction.png', 'benign (426)_mask_prediction.png', 'benign (251)_mask_prediction.png', 'benign (376)_mask_prediction.png', 'benign (303)_mask_prediction.png', 'benign (329)_mask_prediction.png', 'benign (427)_mask_prediction.png', 'benign (141)_mask_prediction.png', 'benign (431)_mask_prediction.png', 'benign (198)_mask_prediction.png', 'benign (419)_mask_prediction.png', 'benign (6)_mask_prediction.png', 'benign (352)_mask_prediction.png', 'benign (34)_mask_prediction.png', 'benign (263)_mask_prediction.png', 'benign (281)_mask_prediction.png', 'benign (406)_mask_prediction.png', 'benign (150)_mask_prediction.png', 'benign (49)_mask_prediction.png', 'benign (87)_mask_prediction.png', 'benign (222)_mask_prediction.png', 'benign (284)_mask_prediction.png', 'benign (405)_mask_prediction.png', 'benign (135)_mask_prediction.png', 'benign (117)_mask_prediction.png', 'benign (375)_mask_prediction.png', 'benign (384)_mask_prediction.png', 'benign (203)_mask_prediction.png', 'benign (236)_mask_prediction.png', 'benign (209)_mask_prediction.png', 'benign (196)_mask_prediction.png', 'benign (313)_mask_prediction.png', 'benign (83)_mask_prediction.png', 'benign (241)_mask_prediction.png', 'benign (133)_mask_prediction.png', 'benign (409)_mask_prediction.png', 'benign (162)_mask_prediction.png', 'benign (1)_mask_prediction.png', 'benign (408)_mask_prediction.png', 'benign (324)_mask_prediction.png', 'benign (268)_mask_prediction.png', 'benign (308)_mask_prediction.png', 'benign (182)_mask_prediction.png', 'benign (139)_mask_prediction.png', 'benign (79)_mask_prediction.png', 'benign (113)_mask_prediction.png', 'benign (181)_mask_prediction.png', 'benign (171)_mask_prediction.png', 'benign (301)_mask_prediction.png', 'benign (280)_mask_prediction.png', 'benign (410)_mask_prediction.png', 'benign (246)_mask_prediction.png', 'benign (240)_mask_prediction.png', 'benign (61)_mask_prediction.png', 'benign (358)_mask_prediction.png', 'benign (140)_mask_prediction.png', 'benign (137)_mask_prediction.png', 'benign (161)_mask_prediction.png', 'benign (383)_mask_prediction.png', 'benign (385)_mask_prediction.png', 'benign (350)_mask_prediction.png', 'benign (59)_mask_prediction.png', 'benign (279)_mask_prediction.png', 'benign (98)_mask_prediction.png', 'benign (56)_mask_prediction.png', 'benign (2)_mask_prediction.png', 'benign (216)_mask_prediction.png', 'benign (273)_mask_prediction.png', 'benign (23)_mask_prediction.png', 'benign (316)_mask_prediction.png', 'benign (391)_mask_prediction.png', 'benign (92)_mask_prediction.png', 'benign (97)_mask_prediction.png', 'benign (207)_mask_prediction.png', 'benign (188)_mask_prediction.png', 'benign (335)_mask_prediction.png', 'benign (259)_mask_prediction.png', 'benign (291)_mask_prediction.png', 'benign (411)_mask_prediction.png', 'benign (46)_mask_prediction.png', 'benign (319)_mask_prediction.png', 'benign (328)_mask_prediction.png', 'benign (82)_mask_prediction.png', 'benign (14)_mask_prediction.png', 'benign (258)_mask_prediction.png', 'benign (377)_mask_prediction.png', 'benign (146)_mask_prediction.png', 'benign (112)_mask_prediction.png', 'benign (371)_mask_prediction.png', 'benign (393)_mask_prediction.png', 'benign (296)_mask_prediction.png', 'benign (252)_mask_prediction.png', 'benign (122)_mask_prediction.png', 'benign (73)_mask_prediction.png', 'benign (381)_mask_prediction.png', 'benign (230)_mask_prediction.png', 'benign (3)_mask_prediction.png', 'benign (205)_mask_prediction.png', 'benign (265)_mask_prediction.png', 'benign (138)_mask_prediction.png', 'benign (109)_mask_prediction.png', 'benign (212)_mask_prediction.png', 'benign (20)_mask_prediction.png', 'benign (343)_mask_prediction.png', 'benign (310)_mask_prediction.png', 'benign (132)_mask_prediction.png', 'benign (192)_mask_prediction.png', 'benign (389)_mask_prediction.png', 'benign (434)_mask_prediction.png', 'benign (24)_mask_prediction.png', 'benign (180)_mask_prediction.png', 'benign (283)_mask_prediction.png', 'benign (64)_mask_prediction.png', 'benign (77)_mask_prediction.png', 'benign (136)_mask_prediction.png', 'benign (270)_mask_prediction.png', 'benign (121)_mask_prediction.png', 'benign (114)_mask_prediction.png', 'benign (119)_mask_prediction.png', 'benign (227)_mask_prediction.png', 'benign (340)_mask_prediction.png', 'benign (344)_mask_prediction.png', 'benign (191)_mask_prediction.png', 'benign (183)_mask_prediction.png', 'benign (341)_mask_prediction.png', 'benign (248)_mask_prediction.png', 'benign (75)_mask_prediction.png', 'benign (312)_mask_prediction.png', 'benign (403)_mask_prediction.png', 'benign (32)_mask_prediction.png', 'benign (37)_mask_prediction.png', 'benign (342)_mask_prediction.png', 'benign (115)_mask_prediction.png']\n"
     ]
    }
   ],
   "source": [
    "folder_name='SAM_predictions_BBoxPoint'\n",
    "benign_predictions_dir=os.path.join('..', folder_name, 'train' ,'benign')\n",
    "list_of_benign_predictions_dir = os.listdir(benign_predictions_dir)\n",
    "print(list_of_benign_predictions_dir)\n",
    "#delete benign (195)_mask_2_mask.png image from valid/benign folder\n",
    "if 'benign (195)_mask_2_mask_prediction.png' in list_of_benign_predictions_dir:\n",
    "    os.remove(os.path.join(benign_predictions_dir,'benign (195)_mask_2_mask_prediction.png'))\n"
   ]
  },
  {
   "cell_type": "code",
   "execution_count": 14,
   "metadata": {},
   "outputs": [
    {
     "name": "stdout",
     "output_type": "stream",
     "text": [
      "Metrics saved to  ../SAM_predictions_BBoxPoint/valid/benign_metrics.csv\n",
      "Metrics saved to  ../SAM_predictions_BBoxPoint/train/benign_metrics.csv\n",
      "Metrics saved to  ../SAM_predictions_BBoxPoint/valid/malignant_metrics.csv\n",
      "Metrics saved to  ../SAM_predictions_BBoxPoint/train/malignant_metrics.csv\n"
     ]
    }
   ],
   "source": [
    "results_df,true_df=calculate_actual_validation_metrics(folder_name,results_df,true_df)"
   ]
  },
  {
   "cell_type": "markdown",
   "metadata": {},
   "source": [
    "### Point "
   ]
  },
  {
   "cell_type": "code",
   "execution_count": 15,
   "metadata": {},
   "outputs": [
    {
     "name": "stdout",
     "output_type": "stream",
     "text": [
      "['benign (185)_mask_prediction.png', 'benign (424)_mask_prediction.png', 'benign (422)_mask_prediction.png', 'benign (276)_mask_prediction.png', 'benign (423)_mask_prediction.png', 'benign (355)_mask_prediction.png', 'benign (367)_mask_prediction.png', 'benign (348)_mask_prediction.png', 'benign (315)_mask_prediction.png', 'benign (36)_mask_prediction.png', 'benign (433)_mask_prediction.png', 'benign (394)_mask_prediction.png', 'benign (10)_mask_prediction.png', 'benign (418)_mask_prediction.png', 'benign (199)_mask_prediction.png', 'benign (4)_mask_prediction.png', 'benign (347)_mask_prediction.png', 'benign (317)_mask_prediction.png', 'benign (186)_mask_prediction.png', 'benign (333)_mask_prediction.png', 'benign (173)_mask_prediction.png', 'benign (354)_mask_prediction.png', 'benign (247)_mask_prediction.png', 'benign (232)_mask_prediction.png', 'benign (392)_mask_prediction.png', 'benign (233)_mask_prediction.png', 'benign (179)_mask_prediction.png', 'benign (18)_mask_prediction.png', 'benign (48)_mask_prediction.png', 'benign (257)_mask_prediction.png', 'benign (51)_mask_prediction.png', 'benign (120)_mask_prediction.png', 'benign (364)_mask_prediction.png', 'benign (326)_mask_prediction.png', 'benign (297)_mask_prediction.png', 'benign (89)_mask_prediction.png', 'benign (300)_mask_prediction.png', 'benign (362)_mask_prediction.png', 'benign (260)_mask_prediction.png', 'benign (415)_mask_prediction.png', 'benign (214)_mask_prediction.png', 'benign (245)_mask_prediction.png', 'benign (277)_mask_prediction.png', 'benign (68)_mask_prediction.png', 'benign (111)_mask_prediction.png', 'benign (144)_mask_prediction.png', 'benign (307)_mask_prediction.png', 'benign (244)_mask_prediction.png', 'benign (107)_mask_prediction.png', 'benign (416)_mask_prediction.png', 'benign (357)_mask_prediction.png', 'benign (53)_mask_prediction.png', 'benign (55)_mask_prediction.png', 'benign (142)_mask_prediction.png', 'benign (38)_mask_prediction.png', 'benign (390)_mask_prediction.png', 'benign (366)_mask_prediction.png', 'benign (388)_mask_prediction.png', 'benign (373)_mask_prediction.png', 'benign (314)_mask_prediction.png', 'benign (9)_mask_prediction.png', 'benign (151)_mask_prediction.png', 'benign (189)_mask_prediction.png', 'benign (74)_mask_prediction.png', 'benign (237)_mask_prediction.png', 'benign (8)_mask_prediction.png', 'benign (285)_mask_prediction.png', 'benign (193)_mask_prediction.png', 'benign (363)_mask_prediction.png', 'benign (269)_mask_prediction.png', 'benign (11)_mask_prediction.png', 'benign (298)_mask_prediction.png', 'benign (149)_mask_prediction.png', 'benign (58)_mask_prediction.png', 'benign (396)_mask_prediction.png', 'benign (147)_mask_prediction.png', 'benign (256)_mask_prediction.png', 'benign (400)_mask_prediction.png', 'benign (131)_mask_prediction.png', 'benign (160)_mask_prediction.png', 'benign (378)_mask_prediction.png', 'benign (322)_mask_prediction.png', 'benign (95)_mask_prediction.png', 'benign (103)_mask_prediction.png', 'benign (380)_mask_prediction.png', 'benign (305)_mask_prediction.png', 'benign (116)_mask_prediction.png', 'benign (368)_mask_prediction.png', 'benign (401)_mask_prediction.png', 'benign (211)_mask_prediction.png', 'benign (321)_mask_prediction.png', 'benign (387)_mask_prediction.png', 'benign (84)_mask_prediction.png', 'benign (106)_mask_prediction.png', 'benign (334)_mask_prediction.png', 'benign (154)_mask_prediction.png', 'benign (27)_mask_prediction.png', 'benign (76)_mask_prediction.png', 'benign (42)_mask_prediction.png', 'benign (128)_mask_prediction.png', 'benign (93)_mask_prediction.png', 'benign (62)_mask_prediction.png', 'benign (432)_mask_prediction.png', 'benign (228)_mask_prediction.png', 'benign (35)_mask_prediction.png', 'benign (33)_mask_prediction.png', 'benign (372)_mask_prediction.png', 'benign (325)_mask_prediction.png', 'benign (195)_mask_2_mask_prediction.png', 'benign (99)_mask_prediction.png', 'benign (229)_mask_prediction.png', 'benign (210)_mask_prediction.png', 'benign (215)_mask_prediction.png', 'benign (70)_mask_prediction.png', 'benign (223)_mask_prediction.png', 'benign (145)_mask_prediction.png', 'benign (304)_mask_prediction.png', 'benign (88)_mask_prediction.png', 'benign (254)_mask_prediction.png', 'benign (250)_mask_prediction.png', 'benign (272)_mask_prediction.png', 'benign (262)_mask_prediction.png', 'benign (153)_mask_prediction.png', 'benign (407)_mask_prediction.png', 'benign (130)_mask_prediction.png', 'benign (219)_mask_prediction.png', 'benign (155)_mask_prediction.png', 'benign (200)_mask_prediction.png', 'benign (382)_mask_prediction.png', 'benign (253)_mask_prediction.png', 'benign (239)_mask_prediction.png', 'benign (235)_mask_prediction.png', 'benign (66)_mask_prediction.png', 'benign (425)_mask_prediction.png', 'benign (21)_mask_prediction.png', 'benign (13)_mask_prediction.png', 'benign (302)_mask_prediction.png', 'benign (52)_mask_prediction.png', 'benign (437)_mask_prediction.png', 'benign (26)_mask_prediction.png', 'benign (165)_mask_prediction.png', 'benign (213)_mask_prediction.png', 'benign (255)_mask_prediction.png', 'benign (353)_mask_prediction.png', 'benign (349)_mask_prediction.png', 'benign (339)_mask_prediction.png', 'benign (435)_mask_prediction.png', 'benign (293)_mask_prediction.png', 'benign (167)_mask_prediction.png', 'benign (174)_mask_prediction.png', 'benign (94)_mask_prediction.png', 'benign (402)_mask_prediction.png', 'benign (19)_mask_prediction.png', 'benign (345)_mask_prediction.png', 'benign (330)_mask_prediction.png', 'benign (78)_mask_prediction.png', 'benign (72)_mask_prediction.png', 'benign (65)_mask_prediction.png', 'benign (71)_mask_prediction.png', 'benign (178)_mask_prediction.png', 'benign (225)_mask_prediction.png', 'benign (57)_mask_prediction.png', 'benign (295)_mask_prediction.png', 'benign (195)_mask_prediction.png', 'benign (220)_mask_prediction.png', 'benign (30)_mask_prediction.png', 'benign (286)_mask_prediction.png', 'benign (63)_mask_prediction.png', 'benign (45)_mask_prediction.png', 'benign (81)_mask_prediction.png', 'benign (386)_mask_prediction.png', 'benign (412)_mask_prediction.png', 'benign (176)_mask_prediction.png', 'benign (110)_mask_prediction.png', 'benign (299)_mask_prediction.png', 'benign (29)_mask_prediction.png', 'benign (417)_mask_prediction.png', 'benign (28)_mask_prediction.png', 'benign (201)_mask_prediction.png', 'benign (202)_mask_prediction.png', 'benign (22)_mask_prediction.png', 'benign (294)_mask_prediction.png', 'benign (157)_mask_prediction.png', 'benign (123)_mask_prediction.png', 'benign (41)_mask_prediction.png', 'benign (226)_mask_prediction.png', 'benign (359)_mask_prediction.png', 'benign (194)_mask_prediction.png', 'benign (102)_mask_prediction.png', 'benign (91)_mask_prediction.png', 'benign (249)_mask_prediction.png', 'benign (224)_mask_prediction.png', 'benign (85)_mask_prediction.png', 'benign (242)_mask_prediction.png', 'benign (421)_mask_prediction.png', 'benign (266)_mask_prediction.png', 'benign (267)_mask_prediction.png', 'benign (264)_mask_prediction.png', 'benign (101)_mask_prediction.png', 'benign (234)_mask_prediction.png', 'benign (218)_mask_prediction.png', 'benign (311)_mask_prediction.png', 'benign (163)_mask_prediction.png', 'benign (104)_mask_prediction.png', 'benign (217)_mask_prediction.png', 'benign (430)_mask_prediction.png', 'benign (50)_mask_prediction.png', 'benign (208)_mask_prediction.png', 'benign (429)_mask_prediction.png', 'benign (118)_mask_prediction.png', 'benign (15)_mask_prediction.png', 'benign (124)_mask_prediction.png', 'benign (261)_mask_prediction.png', 'benign (90)_mask_prediction.png', 'benign (243)_mask_prediction.png', 'benign (152)_mask_prediction.png', 'benign (67)_mask_prediction.png', 'benign (420)_mask_prediction.png', 'benign (274)_mask_prediction.png', 'benign (166)_mask_prediction.png', 'benign (428)_mask_prediction.png', 'benign (184)_mask_prediction.png', 'benign (426)_mask_prediction.png', 'benign (251)_mask_prediction.png', 'benign (376)_mask_prediction.png', 'benign (303)_mask_prediction.png', 'benign (329)_mask_prediction.png', 'benign (427)_mask_prediction.png', 'benign (141)_mask_prediction.png', 'benign (431)_mask_prediction.png', 'benign (198)_mask_prediction.png', 'benign (419)_mask_prediction.png', 'benign (6)_mask_prediction.png', 'benign (352)_mask_prediction.png', 'benign (34)_mask_prediction.png', 'benign (263)_mask_prediction.png', 'benign (281)_mask_prediction.png', 'benign (406)_mask_prediction.png', 'benign (150)_mask_prediction.png', 'benign (49)_mask_prediction.png', 'benign (87)_mask_prediction.png', 'benign (222)_mask_prediction.png', 'benign (284)_mask_prediction.png', 'benign (405)_mask_prediction.png', 'benign (135)_mask_prediction.png', 'benign (117)_mask_prediction.png', 'benign (375)_mask_prediction.png', 'benign (384)_mask_prediction.png', 'benign (203)_mask_prediction.png', 'benign (236)_mask_prediction.png', 'benign (209)_mask_prediction.png', 'benign (196)_mask_prediction.png', 'benign (313)_mask_prediction.png', 'benign (83)_mask_prediction.png', 'benign (241)_mask_prediction.png', 'benign (133)_mask_prediction.png', 'benign (409)_mask_prediction.png', 'benign (162)_mask_prediction.png', 'benign (1)_mask_prediction.png', 'benign (408)_mask_prediction.png', 'benign (324)_mask_prediction.png', 'benign (268)_mask_prediction.png', 'benign (308)_mask_prediction.png', 'benign (182)_mask_prediction.png', 'benign (139)_mask_prediction.png', 'benign (79)_mask_prediction.png', 'benign (113)_mask_prediction.png', 'benign (181)_mask_prediction.png', 'benign (171)_mask_prediction.png', 'benign (301)_mask_prediction.png', 'benign (280)_mask_prediction.png', 'benign (410)_mask_prediction.png', 'benign (246)_mask_prediction.png', 'benign (240)_mask_prediction.png', 'benign (61)_mask_prediction.png', 'benign (358)_mask_prediction.png', 'benign (140)_mask_prediction.png', 'benign (137)_mask_prediction.png', 'benign (161)_mask_prediction.png', 'benign (383)_mask_prediction.png', 'benign (385)_mask_prediction.png', 'benign (350)_mask_prediction.png', 'benign (59)_mask_prediction.png', 'benign (279)_mask_prediction.png', 'benign (98)_mask_prediction.png', 'benign (56)_mask_prediction.png', 'benign (2)_mask_prediction.png', 'benign (216)_mask_prediction.png', 'benign (273)_mask_prediction.png', 'benign (23)_mask_prediction.png', 'benign (316)_mask_prediction.png', 'benign (391)_mask_prediction.png', 'benign (92)_mask_prediction.png', 'benign (97)_mask_prediction.png', 'benign (207)_mask_prediction.png', 'benign (188)_mask_prediction.png', 'benign (335)_mask_prediction.png', 'benign (259)_mask_prediction.png', 'benign (291)_mask_prediction.png', 'benign (411)_mask_prediction.png', 'benign (46)_mask_prediction.png', 'benign (319)_mask_prediction.png', 'benign (328)_mask_prediction.png', 'benign (82)_mask_prediction.png', 'benign (14)_mask_prediction.png', 'benign (258)_mask_prediction.png', 'benign (377)_mask_prediction.png', 'benign (146)_mask_prediction.png', 'benign (112)_mask_prediction.png', 'benign (371)_mask_prediction.png', 'benign (393)_mask_prediction.png', 'benign (296)_mask_prediction.png', 'benign (252)_mask_prediction.png', 'benign (122)_mask_prediction.png', 'benign (73)_mask_prediction.png', 'benign (381)_mask_prediction.png', 'benign (230)_mask_prediction.png', 'benign (3)_mask_prediction.png', 'benign (205)_mask_prediction.png', 'benign (265)_mask_prediction.png', 'benign (138)_mask_prediction.png', 'benign (109)_mask_prediction.png', 'benign (212)_mask_prediction.png', 'benign (20)_mask_prediction.png', 'benign (343)_mask_prediction.png', 'benign (310)_mask_prediction.png', 'benign (132)_mask_prediction.png', 'benign (192)_mask_prediction.png', 'benign (389)_mask_prediction.png', 'benign (434)_mask_prediction.png', 'benign (24)_mask_prediction.png', 'benign (180)_mask_prediction.png', 'benign (283)_mask_prediction.png', 'benign (64)_mask_prediction.png', 'benign (77)_mask_prediction.png', 'benign (136)_mask_prediction.png', 'benign (270)_mask_prediction.png', 'benign (121)_mask_prediction.png', 'benign (114)_mask_prediction.png', 'benign (119)_mask_prediction.png', 'benign (227)_mask_prediction.png', 'benign (340)_mask_prediction.png', 'benign (344)_mask_prediction.png', 'benign (191)_mask_prediction.png', 'benign (183)_mask_prediction.png', 'benign (341)_mask_prediction.png', 'benign (248)_mask_prediction.png', 'benign (75)_mask_prediction.png', 'benign (312)_mask_prediction.png', 'benign (403)_mask_prediction.png', 'benign (32)_mask_prediction.png', 'benign (37)_mask_prediction.png', 'benign (342)_mask_prediction.png', 'benign (115)_mask_prediction.png']\n"
     ]
    }
   ],
   "source": [
    "folder_name='SAM_predictions_Point'\n",
    "\n",
    "#delete benign (195)_mask_2_mask.png image from train/benign folder\n",
    "\n",
    "benign_predictions_dir=os.path.join('..', folder_name, 'train' ,'benign')\n",
    "list_of_benign_predictions_dir = os.listdir(benign_predictions_dir)\n",
    "print(list_of_benign_predictions_dir)\n",
    "#delete benign (195)_mask_2_mask.png image from valid/benign folder\n",
    "if 'benign (195)_mask_2_mask_prediction.png' in list_of_benign_predictions_dir:\n",
    "    os.remove(os.path.join(benign_predictions_dir,'benign (195)_mask_2_mask_prediction.png'))"
   ]
  },
  {
   "cell_type": "code",
   "execution_count": 16,
   "metadata": {},
   "outputs": [
    {
     "name": "stdout",
     "output_type": "stream",
     "text": [
      "Metrics saved to  ../SAM_predictions_Point/valid/benign_metrics.csv\n",
      "Metrics saved to  ../SAM_predictions_Point/train/benign_metrics.csv\n",
      "Metrics saved to  ../SAM_predictions_Point/valid/malignant_metrics.csv\n",
      "Metrics saved to  ../SAM_predictions_Point/train/malignant_metrics.csv\n"
     ]
    }
   ],
   "source": [
    "results_df,true_df=calculate_actual_validation_metrics(folder_name,results_df,true_df)"
   ]
  },
  {
   "cell_type": "code",
   "execution_count": 17,
   "metadata": {},
   "outputs": [
    {
     "name": "stdout",
     "output_type": "stream",
     "text": [
      "                                              Dataset       IOU  Dice Score  \\\n",
      "0    ../SAM_predictions_BBox/valid/benign_metrics.csv  0.194016    0.256431   \n",
      "1    ../SAM_predictions_BBox/train/benign_metrics.csv  0.174441    0.229275   \n",
      "2   ../SAM_predictions_BBox/valid/malignant_metric...  0.215293    0.307382   \n",
      "3   ../SAM_predictions_BBox/train/malignant_metric...  0.268226    0.370997   \n",
      "4   ../SAM_predictions_BBoxPoint/valid/benign_metr...  0.119093    0.171338   \n",
      "5   ../SAM_predictions_BBoxPoint/train/benign_metr...  0.115522    0.166025   \n",
      "6   ../SAM_predictions_BBoxPoint/valid/malignant_m...  0.231074    0.327998   \n",
      "7   ../SAM_predictions_BBoxPoint/train/malignant_m...  0.267980    0.371381   \n",
      "8   ../SAM_predictions_Point/valid/benign_metrics.csv  0.122594    0.148693   \n",
      "9   ../SAM_predictions_Point/train/benign_metrics.csv  0.090008    0.121687   \n",
      "10  ../SAM_predictions_Point/valid/malignant_metri...  0.259443    0.352432   \n",
      "11  ../SAM_predictions_Point/train/malignant_metri...  0.316223    0.407995   \n",
      "\n",
      "    Pixel Wise Accuracy  \n",
      "0              0.921793  \n",
      "1              0.908476  \n",
      "2              0.858512  \n",
      "3              0.870852  \n",
      "4              0.908661  \n",
      "5              0.895223  \n",
      "6              0.857992  \n",
      "7              0.868007  \n",
      "8              0.459037  \n",
      "9              0.392645  \n",
      "10             0.619158  \n",
      "11             0.671820  \n"
     ]
    }
   ],
   "source": [
    "print(results_df)"
   ]
  },
  {
   "cell_type": "code",
   "execution_count": 18,
   "metadata": {},
   "outputs": [],
   "source": [
    "#save csv\n",
    "results_df.to_csv('resnet150gradcam.csv',index=False)"
   ]
  },
  {
   "cell_type": "code",
   "execution_count": 19,
   "metadata": {},
   "outputs": [
    {
     "name": "stdout",
     "output_type": "stream",
     "text": [
      "['resnet150gradcam.csv', 'tests_old.ipynb', 'tests_new.ipynb']\n"
     ]
    }
   ],
   "source": [
    "#ls files in directory\n",
    "\n",
    "print(os.listdir())"
   ]
  },
  {
   "cell_type": "code",
   "execution_count": 20,
   "metadata": {},
   "outputs": [
    {
     "name": "stdout",
     "output_type": "stream",
     "text": [
      "                                              Dataset       IOU  Dice Score  \\\n",
      "0    ../SAM_predictions_BBox/valid/benign_metrics.csv  0.775150    0.863927   \n",
      "1    ../SAM_predictions_BBox/train/benign_metrics.csv  0.775150    0.863927   \n",
      "2   ../SAM_predictions_BBox/valid/malignant_metric...  0.708367    0.823140   \n",
      "3   ../SAM_predictions_BBox/train/malignant_metric...  0.708367    0.823140   \n",
      "4   ../SAM_predictions_BBoxPoint/valid/benign_metr...  0.790104    0.877165   \n",
      "5   ../SAM_predictions_BBoxPoint/train/benign_metr...  0.790104    0.877165   \n",
      "6   ../SAM_predictions_BBoxPoint/valid/malignant_m...  0.715556    0.830464   \n",
      "7   ../SAM_predictions_BBoxPoint/train/malignant_m...  0.715556    0.830464   \n",
      "8   ../SAM_predictions_Point/valid/benign_metrics.csv  0.589681    0.677111   \n",
      "9   ../SAM_predictions_Point/train/benign_metrics.csv  0.589681    0.677111   \n",
      "10  ../SAM_predictions_Point/valid/malignant_metri...  0.461390    0.588329   \n",
      "11  ../SAM_predictions_Point/train/malignant_metri...  0.461390    0.588329   \n",
      "\n",
      "    Pixel Wise Accuracy  \n",
      "0              0.983693  \n",
      "1              0.983693  \n",
      "2              0.954823  \n",
      "3              0.954823  \n",
      "4              0.984473  \n",
      "5              0.984473  \n",
      "6              0.955195  \n",
      "7              0.955195  \n",
      "8              0.896624  \n",
      "9              0.896624  \n",
      "10             0.807121  \n",
      "11             0.807121  \n"
     ]
    }
   ],
   "source": [
    "print(true_df)"
   ]
  },
  {
   "cell_type": "code",
   "execution_count": null,
   "metadata": {},
   "outputs": [],
   "source": []
  }
 ],
 "metadata": {
  "kernelspec": {
   "display_name": "base",
   "language": "python",
   "name": "python3"
  },
  "language_info": {
   "codemirror_mode": {
    "name": "ipython",
    "version": 3
   },
   "file_extension": ".py",
   "mimetype": "text/x-python",
   "name": "python",
   "nbconvert_exporter": "python",
   "pygments_lexer": "ipython3",
   "version": "3.12.2"
  }
 },
 "nbformat": 4,
 "nbformat_minor": 2
}
