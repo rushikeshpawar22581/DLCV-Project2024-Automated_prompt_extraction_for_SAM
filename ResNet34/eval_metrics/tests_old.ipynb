{
 "cells": [
  {
   "cell_type": "code",
   "execution_count": 66,
   "metadata": {},
   "outputs": [],
   "source": [
    "import os\n",
    "import cv2\n",
    "import numpy as np\n",
    "import pandas as pd\n",
    "import matplotlib.pyplot as plt"
   ]
  },
  {
   "cell_type": "markdown",
   "metadata": {},
   "source": [
    "### IOU"
   ]
  },
  {
   "cell_type": "code",
   "execution_count": 67,
   "metadata": {},
   "outputs": [],
   "source": [
    "# def calculate_iou(true_mask, predicted_mask):\n",
    "#     #convert true mask to gray scale\n",
    "#     true_mask_gray=cv2.cvtColor(true_mask,cv2.COLOR_BGR2GRAY)\n",
    "#     #convert predicted mask to gray scale\n",
    "#     predicted_mask_gray=cv2.cvtColor(predicted_mask,cv2.COLOR_BGR2GRAY)\n",
    "#     #find contours for true mask\n",
    "#     true_contours,_=cv2.findContours(true_mask_gray,cv2.RETR_EXTERNAL,cv2.CHAIN_APPROX_SIMPLE)\n",
    "#     #find contours for predicted mask\n",
    "#     predicted_contours,_=cv2.findContours(predicted_mask_gray,cv2.RETR_EXTERNAL,cv2.CHAIN_APPROX_SIMPLE)\n",
    "#     #initialize iou\n",
    "#     iou=0\n",
    "#     #calculate iou only if both true and predicted contours are present\n",
    "#     if len(true_contours)>0 and len(predicted_contours)>0:\n",
    "#         #get intersection contour area\n",
    "#         intersection_area=cv2.contourArea(cv2.convexHull(cv2.bitwise_and(true_mask_gray,predicted_mask_gray)))\n",
    "\n",
    "#         #get union contour area\n",
    "#         union_area=cv2.contourArea(cv2.convexHull(cv2.bitwise_or(true_mask_gray,predicted_mask_gray)))\n",
    "\n",
    "#         #calculate iou\n",
    "#         iou=intersection_area/union_area\n",
    "\n",
    "#     else:\n",
    "#         iou=0\n",
    "\n",
    "#     return iou"
   ]
  },
  {
   "cell_type": "code",
   "execution_count": 68,
   "metadata": {},
   "outputs": [],
   "source": [
    "def calculate_iou(true_mask, predicted_mask):\n",
    "    # Convert true mask to gray scale\n",
    "    true_mask_gray = cv2.cvtColor(true_mask, cv2.COLOR_BGR2GRAY)\n",
    "    # Convert predicted mask to gray scale\n",
    "    predicted_mask_gray = cv2.cvtColor(predicted_mask, cv2.COLOR_BGR2GRAY)\n",
    "    \n",
    "    # Get intersection image\n",
    "    intersection = cv2.bitwise_and(true_mask_gray, predicted_mask_gray)\n",
    "    # Get union image\n",
    "    union = cv2.bitwise_or(true_mask_gray, predicted_mask_gray)\n",
    "    \n",
    "    # Find contours in the intersection and union images\n",
    "    contours_intersection, _ = cv2.findContours(intersection, cv2.RETR_EXTERNAL, cv2.CHAIN_APPROX_SIMPLE)\n",
    "    \n",
    "    contours_union, _ = cv2.findContours(union, cv2.RETR_EXTERNAL, cv2.CHAIN_APPROX_SIMPLE)\n",
    "    \n",
    "    # Initialize IoU\n",
    "    iou = 0\n",
    "    \n",
    "    # Calculate IoU only if both true and predicted contours are present\n",
    "    if len(contours_intersection) > 0 and len(contours_union) > 0:\n",
    "        # Get intersection contour area\n",
    "        intersection_area = cv2.contourArea(cv2.convexHull(np.concatenate(contours_intersection)))\n",
    "        # Get union contour area\n",
    "        union_area = cv2.contourArea(cv2.convexHull(np.concatenate(contours_union)))\n",
    "        \n",
    "        # Calculate IoU\n",
    "        iou = intersection_area / union_area\n",
    "    else:\n",
    "        iou = 0\n",
    "\n",
    "    return iou"
   ]
  },
  {
   "cell_type": "markdown",
   "metadata": {},
   "source": [
    "### Dice"
   ]
  },
  {
   "cell_type": "code",
   "execution_count": 69,
   "metadata": {},
   "outputs": [],
   "source": [
    "# #calculate dice score\n",
    "# def calculate_dice_score(true_mask, predicted_mask):\n",
    "#     #convert true mask to gray scale\n",
    "#     true_mask_gray=cv2.cvtColor(true_mask,cv2.COLOR_BGR2GRAY)\n",
    "#     #convert predicted mask to gray scale\n",
    "#     predicted_mask_gray=cv2.cvtColor(predicted_mask,cv2.COLOR_BGR2GRAY)\n",
    "#     #find contours for true mask\n",
    "#     true_contours,_=cv2.findContours(true_mask_gray,cv2.RETR_EXTERNAL,cv2.CHAIN_APPROX_SIMPLE)\n",
    "#     #find contours for predicted mask\n",
    "#     predicted_contours,_=cv2.findContours(predicted_mask_gray,cv2.RETR_EXTERNAL,cv2.CHAIN_APPROX_SIMPLE)\n",
    "#     dice_score=0\n",
    "#     #calculate dice score only if both true and predicted contours are present\n",
    "#     if len(true_contours)>0 and len(predicted_contours)>0:\n",
    "#         #calculate dice score\n",
    "#         #intersection area\n",
    "#         intersection_area=cv2.contourArea(cv2.convexHull(cv2.bitwise_and(true_mask_gray,predicted_mask_gray)))\n",
    "#         #area of true mask\n",
    "#         true_area=cv2.contourArea(cv2.convexHull(true_mask_gray))\n",
    "#         #area of predicted mask\n",
    "#         predicted_area=cv2.contourArea(cv2.convexHull(predicted_mask_gray))\n",
    "#         #dice score\n",
    "#         dice_score=2*intersection_area/(true_area+predicted_area)\n",
    "\n",
    "#     else:\n",
    "#         dice_score=0\n",
    "\n",
    "#     return dice_score"
   ]
  },
  {
   "cell_type": "code",
   "execution_count": 70,
   "metadata": {},
   "outputs": [],
   "source": [
    "def calculate_dice_score(true_mask, predicted_mask):\n",
    "    # Convert true mask to gray scale\n",
    "    true_mask_gray = cv2.cvtColor(true_mask, cv2.COLOR_BGR2GRAY)\n",
    "    # Convert predicted mask to gray scale\n",
    "    predicted_mask_gray = cv2.cvtColor(predicted_mask, cv2.COLOR_BGR2GRAY)\n",
    "    \n",
    "    # Get intersection image\n",
    "    intersection = cv2.bitwise_and(true_mask_gray, predicted_mask_gray)\n",
    "    \n",
    "    # Find contours in the intersection and individual masks\n",
    "    contours_intersection, _ = cv2.findContours(intersection, cv2.RETR_EXTERNAL, cv2.CHAIN_APPROX_SIMPLE)\n",
    "    if len(contours_intersection) == 0:\n",
    "        return 0\n",
    "    contours_true, _ = cv2.findContours(true_mask_gray, cv2.RETR_EXTERNAL, cv2.CHAIN_APPROX_SIMPLE)\n",
    "    contours_pred, _ = cv2.findContours(predicted_mask_gray, cv2.RETR_EXTERNAL, cv2.CHAIN_APPROX_SIMPLE)\n",
    "    \n",
    "    dice_score = 0\n",
    "    \n",
    "    # Calculate Dice score only if both true and predicted contours are present\n",
    "    if len(contours_true) > 0 and len(contours_pred) > 0:\n",
    "        # Calculate intersection area\n",
    "        intersection_area = cv2.contourArea(cv2.convexHull(np.concatenate(contours_intersection)))\n",
    "        # Calculate area of true mask\n",
    "        true_area = cv2.contourArea(cv2.convexHull(np.concatenate(contours_true)))\n",
    "        # Calculate area of predicted mask\n",
    "        predicted_area = cv2.contourArea(cv2.convexHull(np.concatenate(contours_pred)))\n",
    "        \n",
    "        # Calculate Dice score\n",
    "        dice_score = 2 * intersection_area / (true_area + predicted_area)\n",
    "    else:\n",
    "        dice_score = 0\n",
    "\n",
    "    return dice_score"
   ]
  },
  {
   "cell_type": "markdown",
   "metadata": {},
   "source": [
    "### "
   ]
  },
  {
   "cell_type": "code",
   "execution_count": 71,
   "metadata": {},
   "outputs": [],
   "source": [
    "#pixel wise accuracy\n",
    "\n",
    "def calculate_pixel_wise_accuracy(true_mask, predicted_mask):\n",
    "    \n",
    "    #convert true mask to gray scale\n",
    "    true_mask_gray=cv2.cvtColor(true_mask,cv2.COLOR_BGR2GRAY)\n",
    "    #convert predicted mask to gray scale\n",
    "    predicted_mask_gray=cv2.cvtColor(predicted_mask,cv2.COLOR_BGR2GRAY)\n",
    "    #calculate pixel wise accuracy\n",
    "    #number of pixels in true mask\n",
    "    true_pixels=np.sum(true_mask_gray==255)\n",
    "    #number of pixels in predicted mask\n",
    "    predicted_pixels=np.sum(predicted_mask_gray==255)\n",
    "    #number of pixels in true mask and predicted mask\n",
    "    true_predicted_pixels=np.sum((true_mask_gray==255) & (predicted_mask_gray==255))\n",
    "    #pixel wise accuracy\n",
    "    pixel_wise_accuracy=true_predicted_pixels/(true_pixels+predicted_pixels-true_predicted_pixels)\n",
    "\n",
    "    return pixel_wise_accuracy"
   ]
  },
  {
   "cell_type": "code",
   "execution_count": 72,
   "metadata": {},
   "outputs": [
    {
     "name": "stdout",
     "output_type": "stream",
     "text": [
      "                                 File       IOU  Dice Score  \\\n",
      "0    benign (308)_mask_prediction.png  0.696738    0.823094   \n",
      "1    benign (370)_mask_prediction.png  0.848071    0.917929   \n",
      "2    benign (180)_mask_prediction.png  0.810896    0.894483   \n",
      "3    benign (286)_mask_prediction.png  0.907247    0.950503   \n",
      "4    benign (431)_mask_prediction.png  0.694407    0.820306   \n",
      "..                                ...       ...         ...   \n",
      "431  benign (328)_mask_prediction.png  0.748464    0.858532   \n",
      "432  benign (229)_mask_prediction.png  0.849388    0.911084   \n",
      "433  benign (121)_mask_prediction.png  0.895040    0.944308   \n",
      "434  benign (227)_mask_prediction.png  0.604763    0.706204   \n",
      "435   benign (93)_mask_prediction.png  0.776134    0.873959   \n",
      "\n",
      "     Pixel Wise Accuracy  \n",
      "0               0.566852  \n",
      "1               0.803492  \n",
      "2               0.799482  \n",
      "3               0.793471  \n",
      "4               0.676406  \n",
      "..                   ...  \n",
      "431             0.744627  \n",
      "432             0.819587  \n",
      "433             0.893131  \n",
      "434             0.196625  \n",
      "435             0.643944  \n",
      "\n",
      "[436 rows x 4 columns]\n"
     ]
    }
   ],
   "source": [
    "#\n",
    "benign_predictions_dir='SAM_predictions/benign'\n",
    "benign_gt_dir='Dataset_BUSI_with_GT/benign'\n",
    "\n",
    "#file names in benign_gt_dir =benign (1)_mask.png\n",
    "#file names in benign_predictions_dir =benign (1)_mask_prediction.png\n",
    "\n",
    "\n",
    "list_of_benign_predictions_dir=os.listdir(benign_predictions_dir)\n",
    "\n",
    "df=pd.DataFrame(columns=['File','IOU','Dice Score','Pixel Wise Accuracy'])\n",
    "\n",
    "for files in list_of_benign_predictions_dir:\n",
    "\n",
    "    #read true mask\n",
    "    true_mask=cv2.imread(os.path.join(benign_gt_dir,files.replace('_mask_prediction.png','_mask.png')))\n",
    "    #read predicted mask\n",
    "    predicted_mask=cv2.imread(os.path.join(benign_predictions_dir,files))\n",
    "\n",
    "    #calculate iou\n",
    "    iou=calculate_iou(true_mask,predicted_mask)\n",
    "    #calculate dice score\n",
    "    dice_score=calculate_dice_score(true_mask,predicted_mask)\n",
    "    #calculate pixel wise accuracy\n",
    "    pixel_wise_accuracy=calculate_pixel_wise_accuracy(true_mask,predicted_mask)\n",
    "\n",
    "    #dont use append method to add rows to dataframe\n",
    "\n",
    "    df.loc[len(df)]=[files,iou,dice_score,pixel_wise_accuracy]\n",
    "    \n",
    "\n",
    "\n",
    "print(df)\n",
    "\n",
    "#save the dataframe to a csv file\n",
    "df.to_csv('benign_metrics.csv',index=False)"
   ]
  },
  {
   "cell_type": "code",
   "execution_count": 82,
   "metadata": {},
   "outputs": [],
   "source": [
    "def calculate_metrics(benign_gt_dir, benign_predictions_dir,csv_file_name):\n",
    "    list_of_benign_predictions_dir = os.listdir(benign_predictions_dir)\n",
    "\n",
    "    df = pd.DataFrame(columns=['File', 'IOU', 'Dice Score', 'Pixel Wise Accuracy'])\n",
    "\n",
    "    for files in list_of_benign_predictions_dir:\n",
    "        # read true mask\n",
    "        #print(files)\n",
    "        true_mask = cv2.imread(os.path.join(benign_gt_dir, files.replace('_mask_prediction.png', '_mask.png')))\n",
    "        # read predicted mask\n",
    "        predicted_mask = cv2.imread(os.path.join(benign_predictions_dir, files))\n",
    "\n",
    "        # calculate iou\n",
    "        iou = calculate_iou(true_mask, predicted_mask)\n",
    "        # calculate dice score\n",
    "        dice_score = calculate_dice_score(true_mask, predicted_mask)\n",
    "        # calculate pixel wise accuracy\n",
    "        pixel_wise_accuracy = calculate_pixel_wise_accuracy(true_mask, predicted_mask)\n",
    "\n",
    "        df.loc[len(df)] = [files, iou, dice_score, pixel_wise_accuracy]\n",
    "\n",
    "    print(df.head())\n",
    "\n",
    "    # save the dataframe to a csv file\n",
    "    df.to_csv(csv_file_name, index=False)\n",
    "    \n",
    "    \n",
    "    average_dice_score=np.mean(df['Dice Score'])\n",
    "    average_iou=np.mean(df['IOU'])\n",
    "    average_pixel_wise_accuracy=np.mean(df['Pixel Wise Accuracy'])\n",
    "    \n",
    "    return average_dice_score,average_iou,average_pixel_wise_accuracy"
   ]
  },
  {
   "cell_type": "markdown",
   "metadata": {},
   "source": [
    "## only box prompt"
   ]
  },
  {
   "cell_type": "code",
   "execution_count": 83,
   "metadata": {},
   "outputs": [
    {
     "name": "stdout",
     "output_type": "stream",
     "text": [
      "                               File       IOU  Dice Score  Pixel Wise Accuracy\n",
      "0  benign (308)_mask_prediction.png  0.696738    0.823094             0.566852\n",
      "1  benign (370)_mask_prediction.png  0.848071    0.917929             0.803492\n",
      "2  benign (180)_mask_prediction.png  0.810896    0.894483             0.799482\n",
      "3  benign (286)_mask_prediction.png  0.907247    0.950503             0.793471\n",
      "4  benign (431)_mask_prediction.png  0.694407    0.820306             0.676406\n",
      "Average Dice Score: 0.8966026793007776\n",
      "Average IOU: 0.8219298047116778\n",
      "Average Pixel Wise Accuracy: 0.7751496027403703\n"
     ]
    }
   ],
   "source": [
    "average_dice_score,average_iou,average_pixel_wise_accuracy=calculate_metrics(benign_gt_dir,benign_predictions_dir,'benign_without_points.csv')\n",
    "\n",
    "print('Average Dice Score:',average_dice_score)\n",
    "print('Average IOU:',average_iou)\n",
    "print('Average Pixel Wise Accuracy:',average_pixel_wise_accuracy)"
   ]
  },
  {
   "cell_type": "code",
   "execution_count": 84,
   "metadata": {},
   "outputs": [
    {
     "name": "stdout",
     "output_type": "stream",
     "text": [
      "                                  File       IOU  Dice Score  \\\n",
      "0   malignant (59)_mask_prediction.png  0.745060    0.850841   \n",
      "1  malignant (179)_mask_prediction.png  0.607260    0.749189   \n",
      "2   malignant (80)_mask_prediction.png  0.584726    0.731595   \n",
      "3   malignant (40)_mask_prediction.png  0.837069    0.910793   \n",
      "4   malignant (18)_mask_prediction.png  0.813139    0.894438   \n",
      "\n",
      "   Pixel Wise Accuracy  \n",
      "0             0.702999  \n",
      "1             0.554343  \n",
      "2             0.456828  \n",
      "3             0.817822  \n",
      "4             0.665809  \n",
      "Average Dice Score: 0.8480665238266606\n",
      "Average IOU: 0.7496548193711751\n",
      "Average Pixel Wise Accuracy: 0.7083671832802122\n"
     ]
    }
   ],
   "source": [
    "malignant_predictions_dir='SAM_predictions/malignant'\n",
    "malignant_gt_dir='Dataset_BUSI_with_GT/malignant'\n",
    "\n",
    "average_dice_score,average_iou,average_pixel_wise_accuracy=calculate_metrics(malignant_gt_dir,malignant_predictions_dir,'malignant_without_points.csv')\n",
    "\n",
    "print('Average Dice Score:',average_dice_score)\n",
    "print('Average IOU:',average_iou)\n",
    "print('Average Pixel Wise Accuracy:',average_pixel_wise_accuracy)"
   ]
  },
  {
   "cell_type": "markdown",
   "metadata": {},
   "source": [
    "## with box and point prompt"
   ]
  },
  {
   "cell_type": "code",
   "execution_count": 85,
   "metadata": {},
   "outputs": [
    {
     "name": "stdout",
     "output_type": "stream",
     "text": [
      "                               File       IOU  Dice Score  Pixel Wise Accuracy\n",
      "0  benign (308)_mask_prediction.png  0.436090    0.617439             0.589831\n",
      "1  benign (370)_mask_prediction.png  0.851793    0.920149             0.806679\n",
      "2  benign (180)_mask_prediction.png  0.705160    0.826318             0.832801\n",
      "3  benign (286)_mask_prediction.png  0.910893    0.952451             0.801011\n",
      "4  benign (431)_mask_prediction.png  0.402398    0.575636             0.592038\n",
      "Average Dice Score: 0.6989419138979304\n",
      "Average IOU: 0.597465348760627\n",
      "Average Pixel Wise Accuracy: 0.6440335914096582\n"
     ]
    }
   ],
   "source": [
    "benign_gt_dir='Dataset_BUSI_with_GT/benign'\n",
    "benign_point_box_dir='SAM_predictions_box_point/benign'\n",
    "\n",
    "average_dice_score,average_iou,average_pixel_wise_accuracy=calculate_metrics(benign_gt_dir,benign_point_box_dir,'benign_with_points.csv')\n",
    "\n",
    "print('Average Dice Score:',average_dice_score)\n",
    "print('Average IOU:',average_iou)\n",
    "print('Average Pixel Wise Accuracy:',average_pixel_wise_accuracy)"
   ]
  },
  {
   "cell_type": "code",
   "execution_count": 86,
   "metadata": {},
   "outputs": [
    {
     "name": "stdout",
     "output_type": "stream",
     "text": [
      "                                  File       IOU  Dice Score  \\\n",
      "0   malignant (59)_mask_prediction.png  0.857074    0.920847   \n",
      "1  malignant (179)_mask_prediction.png  0.673970    0.803866   \n",
      "2   malignant (80)_mask_prediction.png  0.602213    0.745789   \n",
      "3   malignant (40)_mask_prediction.png  0.900093    0.947058   \n",
      "4   malignant (18)_mask_prediction.png  0.740771    0.826091   \n",
      "\n",
      "   Pixel Wise Accuracy  \n",
      "0             0.817334  \n",
      "1             0.654354  \n",
      "2             0.589297  \n",
      "3             0.849670  \n",
      "4             0.513867  \n",
      "Average Dice Score: 0.7903546180927549\n",
      "Average IOU: 0.6829500801098968\n",
      "Average Pixel Wise Accuracy: 0.6772106009750228\n"
     ]
    }
   ],
   "source": [
    "malignant_gt_dir='Dataset_BUSI_with_GT/malignant'\n",
    "malignant_point_box_dir='SAM_predictions_box_point/malignant'\n",
    "\n",
    "average_dice_score,average_iou,average_pixel_wise_accuracy=calculate_metrics(malignant_gt_dir,malignant_point_box_dir,'malignant_with_points.csv')\n",
    "\n",
    "print('Average Dice Score:',average_dice_score)\n",
    "print('Average IOU:',average_iou)\n",
    "print('Average Pixel Wise Accuracy:',average_pixel_wise_accuracy)\n"
   ]
  },
  {
   "cell_type": "code",
   "execution_count": null,
   "metadata": {},
   "outputs": [],
   "source": []
  }
 ],
 "metadata": {
  "kernelspec": {
   "display_name": "base",
   "language": "python",
   "name": "python3"
  },
  "language_info": {
   "codemirror_mode": {
    "name": "ipython",
    "version": 3
   },
   "file_extension": ".py",
   "mimetype": "text/x-python",
   "name": "python",
   "nbconvert_exporter": "python",
   "pygments_lexer": "ipython3",
   "version": "3.11.7"
  }
 },
 "nbformat": 4,
 "nbformat_minor": 2
}
